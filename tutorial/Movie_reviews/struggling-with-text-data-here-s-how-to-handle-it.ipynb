{
 "cells": [
  {
   "cell_type": "markdown",
   "metadata": {},
   "source": [
    "# <p style=\"font-family:newtimeroman;font-size:100%;text-align:center;color:#F52549;\">How to Handle Textual Data in NLP</p>\n",
    "\n",
    "***In this notebook, I aim to provide insights into \"How to Handle Textual Data in NLP\". I will cover two major aspects:***\n",
    "\n",
    "***1. Text Preprocessing:***\n",
    "***I will demonstrate how to preprocess textual data using a real-world dataset, specifically the \"IMDB-Movies\" dataset. My primary focus is to simplify and illustrate text preprocessing techniques. However, if you encounter any difficulties, please feel free to comment, and I will do my best to address them.***\n",
    "\n",
    "***2. Text Representation:***\n",
    "***Text representation involves converting textual data into numerical format. I will discuss some of the most important techniques for handling textual data in machine learning, including:***\n",
    "   1. One-Hot Encoding (OHE)\n",
    "   2. Bag of Words\n",
    "   3. N-grams\n",
    "   4. TF-IDF\n",
    "   \n",
    "***I will provide demonstrations of how these four techniques work on the original dataset.***"
   ]
  },
  {
   "cell_type": "markdown",
   "metadata": {},
   "source": [
    "# <p style=\"font-family:newtimeroman;font-size:150%;text-align:center;color:#F52549;\">About Author!</p>\n",
    "##### ***Hello, I'm  Muhammad_Abdullah : A Data Science Enthusiast and Kaggle 2x Expert***\n",
    "\n",
    "Greetings! I'm delighted to welcome you into my world of data science exploration and innovation. I'm **Muhammad_Abdullah**, a passionate data scientist with a fervent dedication to unraveling the mysteries hidden within datasets and leveraging the power of machine learning to drive meaningful insights and solutions.\n",
    "\n",
    "###### ***A Passion for Data Science***\n",
    "\n",
    "Since the inception of my journey into the captivating realm of data science, I've been driven by an insatiable curiosity and an unwavering passion for uncovering the stories embedded in data. From the thrill of diving deep into complex datasets to the exhilaration of crafting predictive models that shape our understanding of the world, data science has become not just a profession but a lifelong passion.\n",
    "\n",
    "###### ***Guiding Light on Kaggle***\n",
    "\n",
    "As a Kaggle 2x Expert, I've had the privilege of sharing my knowledge, insights, and experiences with the vibrant Kaggle community. Through meticulously crafted notebooks, engaging discussions, and collaborative projects, I've had the opportunity to mentor aspiring data enthusiasts, foster a culture of learning and growth, and contribute to the collective pursuit of excellence in data science.\n",
    "\n",
    "###### ***Let's Explore Together***\n",
    "\n",
    "Join me on an exhilarating adventure into the dynamic world of data science! Together, we'll unlock the potential of data, unravel its mysteries, and embark on a transformative journey of discovery and innovation. Whether you're a seasoned data enthusiast or just beginning your data science odyssey, I'm excited to share this journey with you and explore the endless possibilities that data science has to offer.\n",
    "<div style=\"text-align: left;\">\n",
    "    <table>\n",
    "        <tr>\n",
    "            <th><b>Website</b></th>\n",
    "            <th><b>Links</b></th>\n",
    "        </tr>\n",
    "        <tr>\n",
    "        </tr>\n",
    "        <tr>\n",
    "            <td>GitHub</td>\n",
    "            <td><a href=\"https://github.com/muhammadabdullah0303\"><img src=\"https://img.shields.io/badge/GitHub-Profile-blue?style=for-the-badge&logo=github\" alt=\"GitHub\"/></a></td>\n",
    "        </tr>\n",
    "        <tr>\n",
    "            <td>LinkedIn</td>\n",
    "            <td><a href=\"https://www.linkedin.com/in/muhammad-abdullah-6b84b4297/\"><img src=\"https://img.shields.io/badge/LinkedIn-Profile-blue?style=for-the-badge&logo=linkedin\" alt=\"LinkedIn\"/></a></td>\n",
    "        </tr>\n",
    "        <tr>\n",
    "        </tr>\n",
    "        <tr>\n",
    "            <td>Facebook</td>\n",
    "            <td><a href=\"https://web.facebook.com/abd.sentaflexmental\"><img src=\"https://img.shields.io/badge/Facebook-Profile-blue?style=for-the-badge&logo=facebook\" alt=\"Facebook\"/></a></td>\n",
    "        </tr>\n",
    "        <tr>\n",
    "            <td>Gmail</td>\n",
    "            <td><a href=\"mailto:mrabdullah@gmail.com\"><img src=\"https://img.shields.io/badge/Gmail-Contact%20Me-red?style=for-the-badge&logo=gmail\" alt=\"Gmail\"/></a></td>\n",
    "        </tr>\n",
    "    </table>\n",
    "</div>\n"
   ]
  },
  {
   "cell_type": "markdown",
   "metadata": {},
   "source": [
    "# <p style=\"font-family:newtimeroman;font-size:100%;text-align:center;color:#F52549;\">Basis Libraries</p>"
   ]
  },
  {
   "cell_type": "code",
   "execution_count": null,
   "metadata": {
    "execution": {
     "iopub.execute_input": "2024-03-07T00:34:56.261193Z",
     "iopub.status.busy": "2024-03-07T00:34:56.260886Z",
     "iopub.status.idle": "2024-03-07T00:34:58.428893Z",
     "shell.execute_reply": "2024-03-07T00:34:58.428099Z",
     "shell.execute_reply.started": "2024-03-07T00:34:56.261166Z"
    },
    "trusted": true
   },
   "outputs": [
    {
     "name": "stderr",
     "output_type": "stream",
     "text": [
      "[nltk_data] Downloading package stopwords to\n",
      "[nltk_data]     C:\\Users\\Lenovo\\AppData\\Roaming\\nltk_data...\n",
      "[nltk_data]   Package stopwords is already up-to-date!\n",
      "[nltk_data] Downloading package stopwords to\n",
      "[nltk_data]     C:\\Users\\Lenovo\\AppData\\Roaming\\nltk_data...\n",
      "[nltk_data]   Package stopwords is already up-to-date!\n",
      "[nltk_data] Downloading package punkt_tab to\n",
      "[nltk_data]     C:\\Users\\Lenovo\\AppData\\Roaming\\nltk_data...\n",
      "[nltk_data]   Unzipping tokenizers\\punkt_tab.zip.\n"
     ]
    },
    {
     "data": {
      "text/plain": [
       "True"
      ]
     },
     "execution_count": 55,
     "metadata": {},
     "output_type": "execute_result"
    }
   ],
   "source": [
    "# Punctuations\n",
    "import string\n",
    "# Pandas\n",
    "import pandas as pd\n",
    "\n",
    "# Regular Expressions\n",
    "import re\n",
    "\n",
    "# Lemmatization\n",
    "from nltk.stem import WordNetLemmatizer\n",
    "# Tokenization\n",
    "from nltk.tokenize import word_tokenize\n",
    "# Imporr Ohe \n",
    "from sklearn.preprocessing import OneHotEncoder\n",
    "import numpy as np\n",
    "\n",
    "import nltk\n",
    "nltk.download('stopwords')\n",
    "nltk.download('punkt_tab')\n",
    "\n",
    "# Remove Stopwords\n",
    "from nltk.corpus import stopwords \n",
    "# Import PorterStemmer from NLTK Library\n",
    "from nltk.stem.porter import PorterStemmer\n"
   ]
  },
  {
   "cell_type": "markdown",
   "metadata": {},
   "source": [
    "# <p style=\"font-family:newtimeroman;font-size:100%;text-align:center;color:#F52549;\">Loading Data </p>"
   ]
  },
  {
   "cell_type": "code",
   "execution_count": 56,
   "metadata": {
    "execution": {
     "iopub.execute_input": "2024-03-07T00:34:59.940761Z",
     "iopub.status.busy": "2024-03-07T00:34:59.940079Z",
     "iopub.status.idle": "2024-03-07T00:35:01.243188Z",
     "shell.execute_reply": "2024-03-07T00:35:01.242331Z",
     "shell.execute_reply.started": "2024-03-07T00:34:59.940724Z"
    },
    "trusted": true
   },
   "outputs": [],
   "source": [
    "df = pd.read_csv('IMDB Dataset.csv')"
   ]
  },
  {
   "cell_type": "code",
   "execution_count": 57,
   "metadata": {
    "execution": {
     "iopub.execute_input": "2024-03-07T00:35:03.084723Z",
     "iopub.status.busy": "2024-03-07T00:35:03.084308Z",
     "iopub.status.idle": "2024-03-07T00:35:03.100145Z",
     "shell.execute_reply": "2024-03-07T00:35:03.099221Z",
     "shell.execute_reply.started": "2024-03-07T00:35:03.084694Z"
    },
    "trusted": true
   },
   "outputs": [
    {
     "data": {
      "text/html": [
       "<div>\n",
       "<style scoped>\n",
       "    .dataframe tbody tr th:only-of-type {\n",
       "        vertical-align: middle;\n",
       "    }\n",
       "\n",
       "    .dataframe tbody tr th {\n",
       "        vertical-align: top;\n",
       "    }\n",
       "\n",
       "    .dataframe thead th {\n",
       "        text-align: right;\n",
       "    }\n",
       "</style>\n",
       "<table border=\"1\" class=\"dataframe\">\n",
       "  <thead>\n",
       "    <tr style=\"text-align: right;\">\n",
       "      <th></th>\n",
       "      <th>review</th>\n",
       "      <th>sentiment</th>\n",
       "    </tr>\n",
       "  </thead>\n",
       "  <tbody>\n",
       "    <tr>\n",
       "      <th>0</th>\n",
       "      <td>One of the other reviewers has mentioned that ...</td>\n",
       "      <td>positive</td>\n",
       "    </tr>\n",
       "    <tr>\n",
       "      <th>1</th>\n",
       "      <td>A wonderful little production. &lt;br /&gt;&lt;br /&gt;The...</td>\n",
       "      <td>positive</td>\n",
       "    </tr>\n",
       "    <tr>\n",
       "      <th>2</th>\n",
       "      <td>I thought this was a wonderful way to spend ti...</td>\n",
       "      <td>positive</td>\n",
       "    </tr>\n",
       "    <tr>\n",
       "      <th>3</th>\n",
       "      <td>Basically there's a family where a little boy ...</td>\n",
       "      <td>negative</td>\n",
       "    </tr>\n",
       "    <tr>\n",
       "      <th>4</th>\n",
       "      <td>Petter Mattei's \"Love in the Time of Money\" is...</td>\n",
       "      <td>positive</td>\n",
       "    </tr>\n",
       "  </tbody>\n",
       "</table>\n",
       "</div>"
      ],
      "text/plain": [
       "                                              review sentiment\n",
       "0  One of the other reviewers has mentioned that ...  positive\n",
       "1  A wonderful little production. <br /><br />The...  positive\n",
       "2  I thought this was a wonderful way to spend ti...  positive\n",
       "3  Basically there's a family where a little boy ...  negative\n",
       "4  Petter Mattei's \"Love in the Time of Money\" is...  positive"
      ]
     },
     "execution_count": 57,
     "metadata": {},
     "output_type": "execute_result"
    }
   ],
   "source": [
    "# Head \n",
    "df.head()"
   ]
  },
  {
   "cell_type": "code",
   "execution_count": 58,
   "metadata": {
    "execution": {
     "iopub.execute_input": "2024-03-07T00:35:03.544040Z",
     "iopub.status.busy": "2024-03-07T00:35:03.543418Z",
     "iopub.status.idle": "2024-03-07T00:35:03.565687Z",
     "shell.execute_reply": "2024-03-07T00:35:03.564462Z",
     "shell.execute_reply.started": "2024-03-07T00:35:03.544007Z"
    },
    "trusted": true
   },
   "outputs": [
    {
     "data": {
      "text/plain": [
       "review       0\n",
       "sentiment    0\n",
       "dtype: int64"
      ]
     },
     "execution_count": 58,
     "metadata": {},
     "output_type": "execute_result"
    }
   ],
   "source": [
    "# Null Values\n",
    "df.isnull().sum()"
   ]
  },
  {
   "cell_type": "markdown",
   "metadata": {},
   "source": [
    "# <p style=\"font-family:newtimeroman;font-size:100%;text-align:center;color:#F52549;\">1. Basis Text Preprocessing</p>"
   ]
  },
  {
   "attachments": {
    "09c6d7f5-ed17-4921-9e60-62cc1baddbf4.png": {
     "image/png": "[encoded data removed]"
    }
   },
   "cell_type": "markdown",
   "metadata": {},
   "source": [
    "![image.png](attachment:09c6d7f5-ed17-4921-9e60-62cc1baddbf4.png)"
   ]
  },
  {
   "cell_type": "markdown",
   "metadata": {},
   "source": [
    "# <p style=\"font-family:newtimeroman;font-size:100%;text-align:center;color:#F52549;\">1.1 LowerCasing</p>\n"
   ]
  },
  {
   "cell_type": "code",
   "execution_count": 59,
   "metadata": {
    "execution": {
     "iopub.execute_input": "2024-03-07T00:35:05.243672Z",
     "iopub.status.busy": "2024-03-07T00:35:05.243317Z",
     "iopub.status.idle": "2024-03-07T00:35:05.444882Z",
     "shell.execute_reply": "2024-03-07T00:35:05.443965Z",
     "shell.execute_reply.started": "2024-03-07T00:35:05.243645Z"
    },
    "trusted": true
   },
   "outputs": [
    {
     "data": {
      "text/html": [
       "<div>\n",
       "<style scoped>\n",
       "    .dataframe tbody tr th:only-of-type {\n",
       "        vertical-align: middle;\n",
       "    }\n",
       "\n",
       "    .dataframe tbody tr th {\n",
       "        vertical-align: top;\n",
       "    }\n",
       "\n",
       "    .dataframe thead th {\n",
       "        text-align: right;\n",
       "    }\n",
       "</style>\n",
       "<table border=\"1\" class=\"dataframe\">\n",
       "  <thead>\n",
       "    <tr style=\"text-align: right;\">\n",
       "      <th></th>\n",
       "      <th>review</th>\n",
       "      <th>sentiment</th>\n",
       "    </tr>\n",
       "  </thead>\n",
       "  <tbody>\n",
       "    <tr>\n",
       "      <th>0</th>\n",
       "      <td>one of the other reviewers has mentioned that ...</td>\n",
       "      <td>positive</td>\n",
       "    </tr>\n",
       "    <tr>\n",
       "      <th>1</th>\n",
       "      <td>a wonderful little production. &lt;br /&gt;&lt;br /&gt;the...</td>\n",
       "      <td>positive</td>\n",
       "    </tr>\n",
       "    <tr>\n",
       "      <th>2</th>\n",
       "      <td>i thought this was a wonderful way to spend ti...</td>\n",
       "      <td>positive</td>\n",
       "    </tr>\n",
       "    <tr>\n",
       "      <th>3</th>\n",
       "      <td>basically there's a family where a little boy ...</td>\n",
       "      <td>negative</td>\n",
       "    </tr>\n",
       "    <tr>\n",
       "      <th>4</th>\n",
       "      <td>petter mattei's \"love in the time of money\" is...</td>\n",
       "      <td>positive</td>\n",
       "    </tr>\n",
       "  </tbody>\n",
       "</table>\n",
       "</div>"
      ],
      "text/plain": [
       "                                              review sentiment\n",
       "0  one of the other reviewers has mentioned that ...  positive\n",
       "1  a wonderful little production. <br /><br />the...  positive\n",
       "2  i thought this was a wonderful way to spend ti...  positive\n",
       "3  basically there's a family where a little boy ...  negative\n",
       "4  petter mattei's \"love in the time of money\" is...  positive"
      ]
     },
     "execution_count": 59,
     "metadata": {},
     "output_type": "execute_result"
    }
   ],
   "source": [
    "step_1 = df['review'][0]\n",
    "\n",
    "# Lowercase All The Text\n",
    "df['review'] = df['review'].str.lower()\n",
    "\n",
    "# Head \n",
    "df.head()"
   ]
  },
  {
   "cell_type": "markdown",
   "metadata": {},
   "source": [
    "# <p style=\"font-family:newtimeroman;font-size:100%;text-align:center;color:#F52549;\">1.2 Removing Punctuations</p>\n"
   ]
  },
  {
   "cell_type": "code",
   "execution_count": 60,
   "metadata": {
    "execution": {
     "iopub.execute_input": "2024-03-07T00:35:05.785157Z",
     "iopub.status.busy": "2024-03-07T00:35:05.784784Z",
     "iopub.status.idle": "2024-03-07T00:35:06.971393Z",
     "shell.execute_reply": "2024-03-07T00:35:06.970339Z",
     "shell.execute_reply.started": "2024-03-07T00:35:05.785128Z"
    },
    "trusted": true
   },
   "outputs": [
    {
     "data": {
      "text/html": [
       "<div>\n",
       "<style scoped>\n",
       "    .dataframe tbody tr th:only-of-type {\n",
       "        vertical-align: middle;\n",
       "    }\n",
       "\n",
       "    .dataframe tbody tr th {\n",
       "        vertical-align: top;\n",
       "    }\n",
       "\n",
       "    .dataframe thead th {\n",
       "        text-align: right;\n",
       "    }\n",
       "</style>\n",
       "<table border=\"1\" class=\"dataframe\">\n",
       "  <thead>\n",
       "    <tr style=\"text-align: right;\">\n",
       "      <th></th>\n",
       "      <th>review</th>\n",
       "      <th>sentiment</th>\n",
       "    </tr>\n",
       "  </thead>\n",
       "  <tbody>\n",
       "    <tr>\n",
       "      <th>0</th>\n",
       "      <td>one of the other reviewers has mentioned that ...</td>\n",
       "      <td>positive</td>\n",
       "    </tr>\n",
       "    <tr>\n",
       "      <th>1</th>\n",
       "      <td>a wonderful little production br br the filmin...</td>\n",
       "      <td>positive</td>\n",
       "    </tr>\n",
       "    <tr>\n",
       "      <th>2</th>\n",
       "      <td>i thought this was a wonderful way to spend ti...</td>\n",
       "      <td>positive</td>\n",
       "    </tr>\n",
       "    <tr>\n",
       "      <th>3</th>\n",
       "      <td>basically theres a family where a little boy j...</td>\n",
       "      <td>negative</td>\n",
       "    </tr>\n",
       "    <tr>\n",
       "      <th>4</th>\n",
       "      <td>petter matteis love in the time of money is a ...</td>\n",
       "      <td>positive</td>\n",
       "    </tr>\n",
       "  </tbody>\n",
       "</table>\n",
       "</div>"
      ],
      "text/plain": [
       "                                              review sentiment\n",
       "0  one of the other reviewers has mentioned that ...  positive\n",
       "1  a wonderful little production br br the filmin...  positive\n",
       "2  i thought this was a wonderful way to spend ti...  positive\n",
       "3  basically theres a family where a little boy j...  negative\n",
       "4  petter matteis love in the time of money is a ...  positive"
      ]
     },
     "execution_count": 60,
     "metadata": {},
     "output_type": "execute_result"
    }
   ],
   "source": [
    "step_2 = df['review'][0]\n",
    "\n",
    "# Removing Punctuations\n",
    "df['review'] = df['review'].str.translate(str.maketrans('', '', string.punctuation))\n",
    "\n",
    "# Head\n",
    "df.head()"
   ]
  },
  {
   "cell_type": "markdown",
   "metadata": {},
   "source": [
    "# <p style=\"font-family:newtimeroman;font-size:100%;text-align:center;color:#F52549;\">1.3 Removing StopWords</p>"
   ]
  },
  {
   "cell_type": "code",
   "execution_count": null,
   "metadata": {
    "execution": {
     "iopub.execute_input": "2024-03-07T00:35:08.290949Z",
     "iopub.status.busy": "2024-03-07T00:35:08.290586Z",
     "iopub.status.idle": "2024-03-07T00:35:28.662234Z",
     "shell.execute_reply": "2024-03-07T00:35:28.661255Z",
     "shell.execute_reply.started": "2024-03-07T00:35:08.290922Z"
    },
    "trusted": true
   },
   "outputs": [
    {
     "data": {
      "text/html": [
       "<div>\n",
       "<style scoped>\n",
       "    .dataframe tbody tr th:only-of-type {\n",
       "        vertical-align: middle;\n",
       "    }\n",
       "\n",
       "    .dataframe tbody tr th {\n",
       "        vertical-align: top;\n",
       "    }\n",
       "\n",
       "    .dataframe thead th {\n",
       "        text-align: right;\n",
       "    }\n",
       "</style>\n",
       "<table border=\"1\" class=\"dataframe\">\n",
       "  <thead>\n",
       "    <tr style=\"text-align: right;\">\n",
       "      <th></th>\n",
       "      <th>review</th>\n",
       "      <th>sentiment</th>\n",
       "    </tr>\n",
       "  </thead>\n",
       "  <tbody>\n",
       "    <tr>\n",
       "      <th>0</th>\n",
       "      <td>one reviewers mentioned watching 1 oz episode ...</td>\n",
       "      <td>positive</td>\n",
       "    </tr>\n",
       "    <tr>\n",
       "      <th>1</th>\n",
       "      <td>wonderful little production br br filming tech...</td>\n",
       "      <td>positive</td>\n",
       "    </tr>\n",
       "    <tr>\n",
       "      <th>2</th>\n",
       "      <td>thought wonderful way spend time hot summer we...</td>\n",
       "      <td>positive</td>\n",
       "    </tr>\n",
       "    <tr>\n",
       "      <th>3</th>\n",
       "      <td>basically theres family little boy jake thinks...</td>\n",
       "      <td>negative</td>\n",
       "    </tr>\n",
       "    <tr>\n",
       "      <th>4</th>\n",
       "      <td>petter matteis love time money visually stunni...</td>\n",
       "      <td>positive</td>\n",
       "    </tr>\n",
       "  </tbody>\n",
       "</table>\n",
       "</div>"
      ],
      "text/plain": [
       "                                              review sentiment\n",
       "0  one reviewers mentioned watching 1 oz episode ...  positive\n",
       "1  wonderful little production br br filming tech...  positive\n",
       "2  thought wonderful way spend time hot summer we...  positive\n",
       "3  basically theres family little boy jake thinks...  negative\n",
       "4  petter matteis love time money visually stunni...  positive"
      ]
     },
     "execution_count": 61,
     "metadata": {},
     "output_type": "execute_result"
    }
   ],
   "source": [
    "step_3 = df['review'][0]\n",
    "\n",
    "# Intilize Stopwords\n",
    "stop_words = stopwords.words('english')\n",
    "\n",
    "# Apply Stopwords\n",
    "#df['review'] = df['review'].apply(lambda x : ' '.join([word for word in x.split() if word not in (stop_words)]))\n",
    "# Head \n",
    "df.head()"
   ]
  },
  {
   "cell_type": "code",
   "execution_count": 62,
   "metadata": {},
   "outputs": [
    {
     "data": {
      "text/plain": [
       "'one reviewers mentioned watching 1 oz episode youll hooked right exactly happened mebr br first thing struck oz brutality unflinching scenes violence set right word go trust show faint hearted timid show pulls punches regards drugs sex violence hardcore classic use wordbr br called oz nickname given oswald maximum security state penitentary focuses mainly emerald city experimental section prison cells glass fronts face inwards privacy high agenda em city home manyaryans muslims gangstas latinos christians italians irish moreso scuffles death stares dodgy dealings shady agreements never far awaybr br would say main appeal show due fact goes shows wouldnt dare forget pretty pictures painted mainstream audiences forget charm forget romanceoz doesnt mess around first episode ever saw struck nasty surreal couldnt say ready watched developed taste oz got accustomed high levels graphic violence violence injustice crooked guards wholl sold nickel inmates wholl kill order get away well mannered middle class inmates turned prison bitches due lack street skills prison experience watching oz may become comfortable uncomfortable viewingthats get touch darker side'"
      ]
     },
     "execution_count": 62,
     "metadata": {},
     "output_type": "execute_result"
    }
   ],
   "source": [
    "df['review'][0]"
   ]
  },
  {
   "cell_type": "markdown",
   "metadata": {},
   "source": [
    "# <p style=\"font-family:newtimeroman;font-size:100%;text-align:center;color:#F52549;\">1.4 Removing HTMl Tags</p>"
   ]
  },
  {
   "cell_type": "code",
   "execution_count": 63,
   "metadata": {
    "execution": {
     "iopub.execute_input": "2024-03-07T00:35:28.664056Z",
     "iopub.status.busy": "2024-03-07T00:35:28.663774Z",
     "iopub.status.idle": "2024-03-07T00:35:28.766381Z",
     "shell.execute_reply": "2024-03-07T00:35:28.765404Z",
     "shell.execute_reply.started": "2024-03-07T00:35:28.664031Z"
    },
    "trusted": true
   },
   "outputs": [
    {
     "data": {
      "text/html": [
       "<div>\n",
       "<style scoped>\n",
       "    .dataframe tbody tr th:only-of-type {\n",
       "        vertical-align: middle;\n",
       "    }\n",
       "\n",
       "    .dataframe tbody tr th {\n",
       "        vertical-align: top;\n",
       "    }\n",
       "\n",
       "    .dataframe thead th {\n",
       "        text-align: right;\n",
       "    }\n",
       "</style>\n",
       "<table border=\"1\" class=\"dataframe\">\n",
       "  <thead>\n",
       "    <tr style=\"text-align: right;\">\n",
       "      <th></th>\n",
       "      <th>review</th>\n",
       "      <th>sentiment</th>\n",
       "    </tr>\n",
       "  </thead>\n",
       "  <tbody>\n",
       "    <tr>\n",
       "      <th>0</th>\n",
       "      <td>one reviewers mentioned watching 1 oz episode ...</td>\n",
       "      <td>positive</td>\n",
       "    </tr>\n",
       "    <tr>\n",
       "      <th>1</th>\n",
       "      <td>wonderful little production br br filming tech...</td>\n",
       "      <td>positive</td>\n",
       "    </tr>\n",
       "    <tr>\n",
       "      <th>2</th>\n",
       "      <td>thought wonderful way spend time hot summer we...</td>\n",
       "      <td>positive</td>\n",
       "    </tr>\n",
       "    <tr>\n",
       "      <th>3</th>\n",
       "      <td>basically theres family little boy jake thinks...</td>\n",
       "      <td>negative</td>\n",
       "    </tr>\n",
       "    <tr>\n",
       "      <th>4</th>\n",
       "      <td>petter matteis love time money visually stunni...</td>\n",
       "      <td>positive</td>\n",
       "    </tr>\n",
       "  </tbody>\n",
       "</table>\n",
       "</div>"
      ],
      "text/plain": [
       "                                              review sentiment\n",
       "0  one reviewers mentioned watching 1 oz episode ...  positive\n",
       "1  wonderful little production br br filming tech...  positive\n",
       "2  thought wonderful way spend time hot summer we...  positive\n",
       "3  basically theres family little boy jake thinks...  negative\n",
       "4  petter matteis love time money visually stunni...  positive"
      ]
     },
     "execution_count": 63,
     "metadata": {},
     "output_type": "execute_result"
    }
   ],
   "source": [
    "step_4 = df['review'][0]\n",
    "\n",
    "# Function to remove HTML Tags\n",
    "def remove_tags(text):\n",
    "    return re.sub('<[^<]+?>', '', text)\n",
    "\n",
    "# Calling Function\n",
    "df['review'] = df['review'].apply(remove_tags)\n",
    "\n",
    "# Head\n",
    "df.head()"
   ]
  },
  {
   "cell_type": "markdown",
   "metadata": {},
   "source": [
    "# <p style=\"font-family:newtimeroman;font-size:100%;text-align:center;color:#F52549;\">1.5 Removing URLs</p>"
   ]
  },
  {
   "cell_type": "code",
   "execution_count": 64,
   "metadata": {
    "execution": {
     "iopub.execute_input": "2024-03-07T00:35:28.768088Z",
     "iopub.status.busy": "2024-03-07T00:35:28.767701Z",
     "iopub.status.idle": "2024-03-07T00:35:29.315986Z",
     "shell.execute_reply": "2024-03-07T00:35:29.315009Z",
     "shell.execute_reply.started": "2024-03-07T00:35:28.768052Z"
    },
    "trusted": true
   },
   "outputs": [],
   "source": [
    "# Remove URLS\n",
    "df['review'] = df['review'].str.replace('http\\S+|www.\\S+', '', case=False)\n",
    "\n",
    "# Head\n",
    "df.head()\n",
    "\n",
    "step_5 = df['review'][0]"
   ]
  },
  {
   "cell_type": "code",
   "execution_count": 65,
   "metadata": {},
   "outputs": [
    {
     "name": "stdout",
     "output_type": "stream",
     "text": [
      "Raw : One of the other reviewers has mentioned that after watching just 1 Oz episode you'll be hooked. They are right, as this is exactly what happened with me.<br /><br />The first thing that struck me about Oz was its brutality and unflinching scenes of violence, which set in right from the word GO. Trust me, this is not a show for the faint hearted or timid. This show pulls no punches with regards to drugs, sex or violence. Its is hardcore, in the classic use of the word.<br /><br />It is called OZ as that is the nickname given to the Oswald Maximum Security State Penitentary. It focuses mainly on Emerald City, an experimental section of the prison where all the cells have glass fronts and face inwards, so privacy is not high on the agenda. Em City is home to many..Aryans, Muslims, gangstas, Latinos, Christians, Italians, Irish and more....so scuffles, death stares, dodgy dealings and shady agreements are never far away.<br /><br />I would say the main appeal of the show is due to the fact that it goes where other shows wouldn't dare. Forget pretty pictures painted for mainstream audiences, forget charm, forget romance...OZ doesn't mess around. The first episode I ever saw struck me as so nasty it was surreal, I couldn't say I was ready for it, but as I watched more, I developed a taste for Oz, and got accustomed to the high levels of graphic violence. Not just violence, but injustice (crooked guards who'll be sold out for a nickel, inmates who'll kill on order and get away with it, well mannered, middle class inmates being turned into prison bitches due to their lack of street skills or prison experience) Watching Oz, you may become comfortable with what is uncomfortable viewing....thats if you can get in touch with your darker side.\n",
      "After lowercase : one of the other reviewers has mentioned that after watching just 1 oz episode you'll be hooked. they are right, as this is exactly what happened with me.<br /><br />the first thing that struck me about oz was its brutality and unflinching scenes of violence, which set in right from the word go. trust me, this is not a show for the faint hearted or timid. this show pulls no punches with regards to drugs, sex or violence. its is hardcore, in the classic use of the word.<br /><br />it is called oz as that is the nickname given to the oswald maximum security state penitentary. it focuses mainly on emerald city, an experimental section of the prison where all the cells have glass fronts and face inwards, so privacy is not high on the agenda. em city is home to many..aryans, muslims, gangstas, latinos, christians, italians, irish and more....so scuffles, death stares, dodgy dealings and shady agreements are never far away.<br /><br />i would say the main appeal of the show is due to the fact that it goes where other shows wouldn't dare. forget pretty pictures painted for mainstream audiences, forget charm, forget romance...oz doesn't mess around. the first episode i ever saw struck me as so nasty it was surreal, i couldn't say i was ready for it, but as i watched more, i developed a taste for oz, and got accustomed to the high levels of graphic violence. not just violence, but injustice (crooked guards who'll be sold out for a nickel, inmates who'll kill on order and get away with it, well mannered, middle class inmates being turned into prison bitches due to their lack of street skills or prison experience) watching oz, you may become comfortable with what is uncomfortable viewing....thats if you can get in touch with your darker side.\n",
      "After removing punctuation : one of the other reviewers has mentioned that after watching just 1 oz episode youll be hooked they are right as this is exactly what happened with mebr br the first thing that struck me about oz was its brutality and unflinching scenes of violence which set in right from the word go trust me this is not a show for the faint hearted or timid this show pulls no punches with regards to drugs sex or violence its is hardcore in the classic use of the wordbr br it is called oz as that is the nickname given to the oswald maximum security state penitentary it focuses mainly on emerald city an experimental section of the prison where all the cells have glass fronts and face inwards so privacy is not high on the agenda em city is home to manyaryans muslims gangstas latinos christians italians irish and moreso scuffles death stares dodgy dealings and shady agreements are never far awaybr br i would say the main appeal of the show is due to the fact that it goes where other shows wouldnt dare forget pretty pictures painted for mainstream audiences forget charm forget romanceoz doesnt mess around the first episode i ever saw struck me as so nasty it was surreal i couldnt say i was ready for it but as i watched more i developed a taste for oz and got accustomed to the high levels of graphic violence not just violence but injustice crooked guards wholl be sold out for a nickel inmates wholl kill on order and get away with it well mannered middle class inmates being turned into prison bitches due to their lack of street skills or prison experience watching oz you may become comfortable with what is uncomfortable viewingthats if you can get in touch with your darker side\n",
      "After removing stopwords : one reviewers mentioned watching 1 oz episode youll hooked right exactly happened mebr br first thing struck oz brutality unflinching scenes violence set right word go trust show faint hearted timid show pulls punches regards drugs sex violence hardcore classic use wordbr br called oz nickname given oswald maximum security state penitentary focuses mainly emerald city experimental section prison cells glass fronts face inwards privacy high agenda em city home manyaryans muslims gangstas latinos christians italians irish moreso scuffles death stares dodgy dealings shady agreements never far awaybr br would say main appeal show due fact goes shows wouldnt dare forget pretty pictures painted mainstream audiences forget charm forget romanceoz doesnt mess around first episode ever saw struck nasty surreal couldnt say ready watched developed taste oz got accustomed high levels graphic violence violence injustice crooked guards wholl sold nickel inmates wholl kill order get away well mannered middle class inmates turned prison bitches due lack street skills prison experience watching oz may become comfortable uncomfortable viewingthats get touch darker side\n",
      "After removing HTML and URL's: one reviewers mentioned watching 1 oz episode youll hooked right exactly happened mebr br first thing struck oz brutality unflinching scenes violence set right word go trust show faint hearted timid show pulls punches regards drugs sex violence hardcore classic use wordbr br called oz nickname given oswald maximum security state penitentary focuses mainly emerald city experimental section prison cells glass fronts face inwards privacy high agenda em city home manyaryans muslims gangstas latinos christians italians irish moreso scuffles death stares dodgy dealings shady agreements never far awaybr br would say main appeal show due fact goes shows wouldnt dare forget pretty pictures painted mainstream audiences forget charm forget romanceoz doesnt mess around first episode ever saw struck nasty surreal couldnt say ready watched developed taste oz got accustomed high levels graphic violence violence injustice crooked guards wholl sold nickel inmates wholl kill order get away well mannered middle class inmates turned prison bitches due lack street skills prison experience watching oz may become comfortable uncomfortable viewingthats get touch darker side\n"
     ]
    }
   ],
   "source": [
    "print(f\"Raw : {step_1}\")\n",
    "print(f\"After lowercase : {step_2}\")\n",
    "print(f\"After removing punctuation : {step_3}\")\n",
    "print(f\"After removing stopwords : {step_4}\")\n",
    "print(f\"After removing HTML and URL's: {step_5}\")\n",
    "\n",
    "# example of stopwords : \"of\" \"the\" \"other\""
   ]
  },
  {
   "cell_type": "markdown",
   "metadata": {},
   "source": [
    "# <p style=\"font-family:newtimeroman;font-size:100%;text-align:center;color:#F52549;\">1.6 Handling ChatsWords</p>"
   ]
  },
  {
   "cell_type": "code",
   "execution_count": 66,
   "metadata": {
    "execution": {
     "iopub.execute_input": "2024-03-07T00:35:29.318708Z",
     "iopub.status.busy": "2024-03-07T00:35:29.318409Z",
     "iopub.status.idle": "2024-03-07T00:35:29.331012Z",
     "shell.execute_reply": "2024-03-07T00:35:29.330104Z",
     "shell.execute_reply.started": "2024-03-07T00:35:29.318683Z"
    },
    "trusted": true
   },
   "outputs": [],
   "source": [
    "# Here Come ChatWords Which i Get from a Github Repository\n",
    "# Repository Link : https://github.com/rishabhverma17/sms_slang_translator/blob/master/slang.txt\n",
    "chat_words = {\n",
    "    \"AFAIK\": \"As Far As I Know\",\n",
    "    \"AFK\": \"Away From Keyboard\",\n",
    "    \"ASAP\": \"As Soon As Possible\",\n",
    "    \"ATK\": \"At The Keyboard\",\n",
    "    \"ATM\": \"At The Moment\",\n",
    "    \"A3\": \"Anytime, Anywhere, Anyplace\",\n",
    "    \"BAK\": \"Back At Keyboard\",\n",
    "    \"BBL\": \"Be Back Later\",\n",
    "    \"BBS\": \"Be Back Soon\",\n",
    "    \"BFN\": \"Bye For Now\",\n",
    "    \"B4N\": \"Bye For Now\",\n",
    "    \"BRB\": \"Be Right Back\",\n",
    "    \"BRT\": \"Be Right There\",\n",
    "    \"BTW\": \"By The Way\",\n",
    "    \"B4\": \"Before\",\n",
    "    \"B4N\": \"Bye For Now\",\n",
    "    \"CU\": \"See You\",\n",
    "    \"CUL8R\": \"See You Later\",\n",
    "    \"CYA\": \"See You\",\n",
    "    \"FAQ\": \"Frequently Asked Questions\",\n",
    "    \"FC\": \"Fingers Crossed\",\n",
    "    \"FWIW\": \"For What It's Worth\",\n",
    "    \"FYI\": \"For Your Information\",\n",
    "    \"GAL\": \"Get A Life\",\n",
    "    \"GG\": \"Good Game\",\n",
    "    \"GN\": \"Good Night\",\n",
    "    \"GMTA\": \"Great Minds Think Alike\",\n",
    "    \"GR8\": \"Great!\",\n",
    "    \"G9\": \"Genius\",\n",
    "    \"IC\": \"I See\",\n",
    "    \"ICQ\": \"I Seek you (also a chat program)\",\n",
    "    \"ILU\": \"ILU: I Love You\",\n",
    "    \"IMHO\": \"In My Honest/Humble Opinion\",\n",
    "    \"IMO\": \"In My Opinion\",\n",
    "    \"IOW\": \"In Other Words\",\n",
    "    \"IRL\": \"In Real Life\",\n",
    "    \"KISS\": \"Keep It Simple, Stupid\",\n",
    "    \"LDR\": \"Long Distance Relationship\",\n",
    "    \"LMAO\": \"Laugh My A.. Off\",\n",
    "    \"LOL\": \"Laughing Out Loud\",\n",
    "    \"LTNS\": \"Long Time No See\",\n",
    "    \"L8R\": \"Later\",\n",
    "    \"MTE\": \"My Thoughts Exactly\",\n",
    "    \"M8\": \"Mate\",\n",
    "    \"NRN\": \"No Reply Necessary\",\n",
    "    \"OIC\": \"Oh I See\",\n",
    "    \"PITA\": \"Pain In The A..\",\n",
    "    \"PRT\": \"Party\",\n",
    "    \"PRW\": \"Parents Are Watching\",\n",
    "    \"QPSA?\": \"Que Pasa?\",\n",
    "    \"ROFL\": \"Rolling On The Floor Laughing\",\n",
    "    \"ROFLOL\": \"Rolling On The Floor Laughing Out Loud\",\n",
    "    \"ROTFLMAO\": \"Rolling On The Floor Laughing My A.. Off\",\n",
    "    \"SK8\": \"Skate\",\n",
    "    \"STATS\": \"Your sex and age\",\n",
    "    \"ASL\": \"Age, Sex, Location\",\n",
    "    \"THX\": \"Thank You\",\n",
    "    \"TTFN\": \"Ta-Ta For Now!\",\n",
    "    \"TTYL\": \"Talk To You Later\",\n",
    "    \"U\": \"You\",\n",
    "    \"U2\": \"You Too\",\n",
    "    \"U4E\": \"Yours For Ever\",\n",
    "    \"WB\": \"Welcome Back\",\n",
    "    \"WTF\": \"What The F...\",\n",
    "    \"WTG\": \"Way To Go!\",\n",
    "    \"WUF\": \"Where Are You From?\",\n",
    "    \"W8\": \"Wait...\",\n",
    "    \"7K\": \"Sick:-D Laugher\",\n",
    "    \"TFW\": \"That feeling when\",\n",
    "    \"MFW\": \"My face when\",\n",
    "    \"MRW\": \"My reaction when\",\n",
    "    \"IFYP\": \"I feel your pain\",\n",
    "    \"TNTL\": \"Trying not to laugh\",\n",
    "    \"JK\": \"Just kidding\",\n",
    "    \"IDC\": \"I don't care\",\n",
    "    \"ILY\": \"I love you\",\n",
    "    \"IMU\": \"I miss you\",\n",
    "    \"ADIH\": \"Another day in hell\",\n",
    "    \"ZZZ\": \"Sleeping, bored, tired\",\n",
    "    \"WYWH\": \"Wish you were here\",\n",
    "    \"TIME\": \"Tears in my eyes\",\n",
    "    \"BAE\": \"Before anyone else\",\n",
    "    \"FIMH\": \"Forever in my heart\",\n",
    "    \"BSAAW\": \"Big smile and a wink\",\n",
    "    \"BWL\": \"Bursting with laughter\",\n",
    "    \"BFF\": \"Best friends forever\",\n",
    "    \"CSL\": \"Can't stop laughing\"\n",
    "}"
   ]
  },
  {
   "cell_type": "code",
   "execution_count": 67,
   "metadata": {
    "execution": {
     "iopub.execute_input": "2024-03-07T00:35:29.332616Z",
     "iopub.status.busy": "2024-03-07T00:35:29.332239Z",
     "iopub.status.idle": "2024-03-07T00:35:31.846597Z",
     "shell.execute_reply": "2024-03-07T00:35:31.845635Z",
     "shell.execute_reply.started": "2024-03-07T00:35:29.332556Z"
    },
    "trusted": true
   },
   "outputs": [
    {
     "data": {
      "text/html": [
       "<div>\n",
       "<style scoped>\n",
       "    .dataframe tbody tr th:only-of-type {\n",
       "        vertical-align: middle;\n",
       "    }\n",
       "\n",
       "    .dataframe tbody tr th {\n",
       "        vertical-align: top;\n",
       "    }\n",
       "\n",
       "    .dataframe thead th {\n",
       "        text-align: right;\n",
       "    }\n",
       "</style>\n",
       "<table border=\"1\" class=\"dataframe\">\n",
       "  <thead>\n",
       "    <tr style=\"text-align: right;\">\n",
       "      <th></th>\n",
       "      <th>review</th>\n",
       "      <th>sentiment</th>\n",
       "    </tr>\n",
       "  </thead>\n",
       "  <tbody>\n",
       "    <tr>\n",
       "      <th>0</th>\n",
       "      <td>one reviewers mentioned watching 1 oz episode ...</td>\n",
       "      <td>positive</td>\n",
       "    </tr>\n",
       "    <tr>\n",
       "      <th>1</th>\n",
       "      <td>wonderful little production br br filming tech...</td>\n",
       "      <td>positive</td>\n",
       "    </tr>\n",
       "    <tr>\n",
       "      <th>2</th>\n",
       "      <td>thought wonderful way spend Tears in my eyes h...</td>\n",
       "      <td>positive</td>\n",
       "    </tr>\n",
       "    <tr>\n",
       "      <th>3</th>\n",
       "      <td>basically theres family little boy jake thinks...</td>\n",
       "      <td>negative</td>\n",
       "    </tr>\n",
       "    <tr>\n",
       "      <th>4</th>\n",
       "      <td>petter matteis love Tears in my eyes money vis...</td>\n",
       "      <td>positive</td>\n",
       "    </tr>\n",
       "  </tbody>\n",
       "</table>\n",
       "</div>"
      ],
      "text/plain": [
       "                                              review sentiment\n",
       "0  one reviewers mentioned watching 1 oz episode ...  positive\n",
       "1  wonderful little production br br filming tech...  positive\n",
       "2  thought wonderful way spend Tears in my eyes h...  positive\n",
       "3  basically theres family little boy jake thinks...  negative\n",
       "4  petter matteis love Tears in my eyes money vis...  positive"
      ]
     },
     "execution_count": 67,
     "metadata": {},
     "output_type": "execute_result"
    }
   ],
   "source": [
    "# Function\n",
    "def chat_conversion(text):\n",
    "    new_text = []\n",
    "    for i in text.split():\n",
    "        if i.upper() in chat_words:\n",
    "            new_text.append(chat_words[i.upper()])\n",
    "        else:\n",
    "            new_text.append(i)\n",
    "    return \" \".join(new_text)\n",
    "\n",
    "# Calling Function \n",
    "df['review'] = df['review'].apply(chat_conversion)\n",
    "\n",
    "# Head\n",
    "df.head()"
   ]
  },
  {
   "cell_type": "markdown",
   "metadata": {},
   "source": [
    "# <p style=\"font-family:newtimeroman;font-size:100%;text-align:center;color:#F52549;\">1.7 Word_Tokenization</p>\n"
   ]
  },
  {
   "cell_type": "code",
   "execution_count": null,
   "metadata": {
    "execution": {
     "iopub.execute_input": "2024-03-07T00:35:31.848241Z",
     "iopub.status.busy": "2024-03-07T00:35:31.847892Z",
     "iopub.status.idle": "2024-03-07T00:36:30.924790Z",
     "shell.execute_reply": "2024-03-07T00:36:30.923711Z",
     "shell.execute_reply.started": "2024-03-07T00:35:31.848209Z"
    },
    "trusted": true
   },
   "outputs": [
    {
     "data": {
      "text/html": [
       "<div>\n",
       "<style scoped>\n",
       "    .dataframe tbody tr th:only-of-type {\n",
       "        vertical-align: middle;\n",
       "    }\n",
       "\n",
       "    .dataframe tbody tr th {\n",
       "        vertical-align: top;\n",
       "    }\n",
       "\n",
       "    .dataframe thead th {\n",
       "        text-align: right;\n",
       "    }\n",
       "</style>\n",
       "<table border=\"1\" class=\"dataframe\">\n",
       "  <thead>\n",
       "    <tr style=\"text-align: right;\">\n",
       "      <th></th>\n",
       "      <th>review</th>\n",
       "      <th>sentiment</th>\n",
       "      <th>review_word_token</th>\n",
       "    </tr>\n",
       "  </thead>\n",
       "  <tbody>\n",
       "    <tr>\n",
       "      <th>0</th>\n",
       "      <td>one reviewers mentioned watching 1 oz episode ...</td>\n",
       "      <td>positive</td>\n",
       "      <td>[one, reviewers, mentioned, watching, 1, oz, e...</td>\n",
       "    </tr>\n",
       "    <tr>\n",
       "      <th>1</th>\n",
       "      <td>wonderful little production br br filming tech...</td>\n",
       "      <td>positive</td>\n",
       "      <td>[wonderful, little, production, br, br, filmin...</td>\n",
       "    </tr>\n",
       "    <tr>\n",
       "      <th>2</th>\n",
       "      <td>thought wonderful way spend Tears in my eyes h...</td>\n",
       "      <td>positive</td>\n",
       "      <td>[thought, wonderful, way, spend, Tears, in, my...</td>\n",
       "    </tr>\n",
       "    <tr>\n",
       "      <th>3</th>\n",
       "      <td>basically theres family little boy jake thinks...</td>\n",
       "      <td>negative</td>\n",
       "      <td>[basically, theres, family, little, boy, jake,...</td>\n",
       "    </tr>\n",
       "    <tr>\n",
       "      <th>4</th>\n",
       "      <td>petter matteis love Tears in my eyes money vis...</td>\n",
       "      <td>positive</td>\n",
       "      <td>[petter, matteis, love, Tears, in, my, eyes, m...</td>\n",
       "    </tr>\n",
       "  </tbody>\n",
       "</table>\n",
       "</div>"
      ],
      "text/plain": [
       "                                              review sentiment  \\\n",
       "0  one reviewers mentioned watching 1 oz episode ...  positive   \n",
       "1  wonderful little production br br filming tech...  positive   \n",
       "2  thought wonderful way spend Tears in my eyes h...  positive   \n",
       "3  basically theres family little boy jake thinks...  negative   \n",
       "4  petter matteis love Tears in my eyes money vis...  positive   \n",
       "\n",
       "                                   review_word_token  \n",
       "0  [one, reviewers, mentioned, watching, 1, oz, e...  \n",
       "1  [wonderful, little, production, br, br, filmin...  \n",
       "2  [thought, wonderful, way, spend, Tears, in, my...  \n",
       "3  [basically, theres, family, little, boy, jake,...  \n",
       "4  [petter, matteis, love, Tears, in, my, eyes, m...  "
      ]
     },
     "execution_count": 68,
     "metadata": {},
     "output_type": "execute_result"
    }
   ],
   "source": [
    "# Tokenization \n",
    "from nltk.tokenize import word_tokenize # more precise than .split()\n",
    "\n",
    "# Apply word_tokenize\n",
    "df['review_word_token'] = df['review'].apply(word_tokenize)\n",
    "\n",
    "# Head\n",
    "df.head()"
   ]
  },
  {
   "cell_type": "markdown",
   "metadata": {},
   "source": [
    "# <p style=\"font-family:newtimeroman;font-size:100%;text-align:center;color:#F52549;\">1.8 Sentence_Tokenization</p>\n"
   ]
  },
  {
   "cell_type": "code",
   "execution_count": 69,
   "metadata": {
    "execution": {
     "iopub.execute_input": "2024-03-07T00:36:30.926348Z",
     "iopub.status.busy": "2024-03-07T00:36:30.926039Z",
     "iopub.status.idle": "2024-03-07T00:36:40.857618Z",
     "shell.execute_reply": "2024-03-07T00:36:40.856359Z",
     "shell.execute_reply.started": "2024-03-07T00:36:30.926322Z"
    },
    "trusted": true
   },
   "outputs": [
    {
     "data": {
      "text/html": [
       "<div>\n",
       "<style scoped>\n",
       "    .dataframe tbody tr th:only-of-type {\n",
       "        vertical-align: middle;\n",
       "    }\n",
       "\n",
       "    .dataframe tbody tr th {\n",
       "        vertical-align: top;\n",
       "    }\n",
       "\n",
       "    .dataframe thead th {\n",
       "        text-align: right;\n",
       "    }\n",
       "</style>\n",
       "<table border=\"1\" class=\"dataframe\">\n",
       "  <thead>\n",
       "    <tr style=\"text-align: right;\">\n",
       "      <th></th>\n",
       "      <th>review</th>\n",
       "      <th>sentiment</th>\n",
       "      <th>review_word_token</th>\n",
       "      <th>review_sent_token</th>\n",
       "    </tr>\n",
       "  </thead>\n",
       "  <tbody>\n",
       "    <tr>\n",
       "      <th>0</th>\n",
       "      <td>one reviewers mentioned watching 1 oz episode ...</td>\n",
       "      <td>positive</td>\n",
       "      <td>[one, reviewers, mentioned, watching, 1, oz, e...</td>\n",
       "      <td>[one reviewers mentioned watching 1 oz episode...</td>\n",
       "    </tr>\n",
       "    <tr>\n",
       "      <th>1</th>\n",
       "      <td>wonderful little production br br filming tech...</td>\n",
       "      <td>positive</td>\n",
       "      <td>[wonderful, little, production, br, br, filmin...</td>\n",
       "      <td>[wonderful little production br br filming tec...</td>\n",
       "    </tr>\n",
       "    <tr>\n",
       "      <th>2</th>\n",
       "      <td>thought wonderful way spend Tears in my eyes h...</td>\n",
       "      <td>positive</td>\n",
       "      <td>[thought, wonderful, way, spend, Tears, in, my...</td>\n",
       "      <td>[thought wonderful way spend Tears in my eyes ...</td>\n",
       "    </tr>\n",
       "    <tr>\n",
       "      <th>3</th>\n",
       "      <td>basically theres family little boy jake thinks...</td>\n",
       "      <td>negative</td>\n",
       "      <td>[basically, theres, family, little, boy, jake,...</td>\n",
       "      <td>[basically theres family little boy jake think...</td>\n",
       "    </tr>\n",
       "    <tr>\n",
       "      <th>4</th>\n",
       "      <td>petter matteis love Tears in my eyes money vis...</td>\n",
       "      <td>positive</td>\n",
       "      <td>[petter, matteis, love, Tears, in, my, eyes, m...</td>\n",
       "      <td>[petter matteis love Tears in my eyes money vi...</td>\n",
       "    </tr>\n",
       "  </tbody>\n",
       "</table>\n",
       "</div>"
      ],
      "text/plain": [
       "                                              review sentiment  \\\n",
       "0  one reviewers mentioned watching 1 oz episode ...  positive   \n",
       "1  wonderful little production br br filming tech...  positive   \n",
       "2  thought wonderful way spend Tears in my eyes h...  positive   \n",
       "3  basically theres family little boy jake thinks...  negative   \n",
       "4  petter matteis love Tears in my eyes money vis...  positive   \n",
       "\n",
       "                                   review_word_token  \\\n",
       "0  [one, reviewers, mentioned, watching, 1, oz, e...   \n",
       "1  [wonderful, little, production, br, br, filmin...   \n",
       "2  [thought, wonderful, way, spend, Tears, in, my...   \n",
       "3  [basically, theres, family, little, boy, jake,...   \n",
       "4  [petter, matteis, love, Tears, in, my, eyes, m...   \n",
       "\n",
       "                                   review_sent_token  \n",
       "0  [one reviewers mentioned watching 1 oz episode...  \n",
       "1  [wonderful little production br br filming tec...  \n",
       "2  [thought wonderful way spend Tears in my eyes ...  \n",
       "3  [basically theres family little boy jake think...  \n",
       "4  [petter matteis love Tears in my eyes money vi...  "
      ]
     },
     "execution_count": 69,
     "metadata": {},
     "output_type": "execute_result"
    }
   ],
   "source": [
    "# Tokenization \n",
    "from nltk.tokenize import sent_tokenize\n",
    "\n",
    "# Apply sent_tokenize\n",
    "df['review_sent_token'] = df['review'].apply(sent_tokenize)\n",
    "\n",
    "# Head\n",
    "df.head()"
   ]
  },
  {
   "cell_type": "markdown",
   "metadata": {},
   "source": [
    "# <p style=\"font-family:newtimeroman;font-size:100%;text-align:center;color:#F52549;\">1.9 Stemming</p>\n"
   ]
  },
  {
   "cell_type": "code",
   "execution_count": 70,
   "metadata": {
    "execution": {
     "iopub.execute_input": "2024-03-07T00:36:40.859357Z",
     "iopub.status.busy": "2024-03-07T00:36:40.859030Z",
     "iopub.status.idle": "2024-03-07T00:40:00.557671Z",
     "shell.execute_reply": "2024-03-07T00:40:00.556702Z",
     "shell.execute_reply.started": "2024-03-07T00:36:40.859318Z"
    },
    "trusted": true
   },
   "outputs": [
    {
     "data": {
      "text/html": [
       "<div>\n",
       "<style scoped>\n",
       "    .dataframe tbody tr th:only-of-type {\n",
       "        vertical-align: middle;\n",
       "    }\n",
       "\n",
       "    .dataframe tbody tr th {\n",
       "        vertical-align: top;\n",
       "    }\n",
       "\n",
       "    .dataframe thead th {\n",
       "        text-align: right;\n",
       "    }\n",
       "</style>\n",
       "<table border=\"1\" class=\"dataframe\">\n",
       "  <thead>\n",
       "    <tr style=\"text-align: right;\">\n",
       "      <th></th>\n",
       "      <th>review</th>\n",
       "      <th>sentiment</th>\n",
       "      <th>review_word_token</th>\n",
       "      <th>review_sent_token</th>\n",
       "      <th>review_stemmed</th>\n",
       "    </tr>\n",
       "  </thead>\n",
       "  <tbody>\n",
       "    <tr>\n",
       "      <th>0</th>\n",
       "      <td>one reviewers mentioned watching 1 oz episode ...</td>\n",
       "      <td>positive</td>\n",
       "      <td>[one, reviewers, mentioned, watching, 1, oz, e...</td>\n",
       "      <td>[one reviewers mentioned watching 1 oz episode...</td>\n",
       "      <td>one review mention watch 1 oz episod youll hoo...</td>\n",
       "    </tr>\n",
       "    <tr>\n",
       "      <th>1</th>\n",
       "      <td>wonderful little production br br filming tech...</td>\n",
       "      <td>positive</td>\n",
       "      <td>[wonderful, little, production, br, br, filmin...</td>\n",
       "      <td>[wonderful little production br br filming tec...</td>\n",
       "      <td>wonder littl product br br film techniqu unass...</td>\n",
       "    </tr>\n",
       "    <tr>\n",
       "      <th>2</th>\n",
       "      <td>thought wonderful way spend Tears in my eyes h...</td>\n",
       "      <td>positive</td>\n",
       "      <td>[thought, wonderful, way, spend, Tears, in, my...</td>\n",
       "      <td>[thought wonderful way spend Tears in my eyes ...</td>\n",
       "      <td>thought wonder way spend tear in my eye hot su...</td>\n",
       "    </tr>\n",
       "    <tr>\n",
       "      <th>3</th>\n",
       "      <td>basically theres family little boy jake thinks...</td>\n",
       "      <td>negative</td>\n",
       "      <td>[basically, theres, family, little, boy, jake,...</td>\n",
       "      <td>[basically theres family little boy jake think...</td>\n",
       "      <td>basic there famili littl boy jake think there ...</td>\n",
       "    </tr>\n",
       "    <tr>\n",
       "      <th>4</th>\n",
       "      <td>petter matteis love Tears in my eyes money vis...</td>\n",
       "      <td>positive</td>\n",
       "      <td>[petter, matteis, love, Tears, in, my, eyes, m...</td>\n",
       "      <td>[petter matteis love Tears in my eyes money vi...</td>\n",
       "      <td>petter mattei love tear in my eye money visual...</td>\n",
       "    </tr>\n",
       "  </tbody>\n",
       "</table>\n",
       "</div>"
      ],
      "text/plain": [
       "                                              review sentiment  \\\n",
       "0  one reviewers mentioned watching 1 oz episode ...  positive   \n",
       "1  wonderful little production br br filming tech...  positive   \n",
       "2  thought wonderful way spend Tears in my eyes h...  positive   \n",
       "3  basically theres family little boy jake thinks...  negative   \n",
       "4  petter matteis love Tears in my eyes money vis...  positive   \n",
       "\n",
       "                                   review_word_token  \\\n",
       "0  [one, reviewers, mentioned, watching, 1, oz, e...   \n",
       "1  [wonderful, little, production, br, br, filmin...   \n",
       "2  [thought, wonderful, way, spend, Tears, in, my...   \n",
       "3  [basically, theres, family, little, boy, jake,...   \n",
       "4  [petter, matteis, love, Tears, in, my, eyes, m...   \n",
       "\n",
       "                                   review_sent_token  \\\n",
       "0  [one reviewers mentioned watching 1 oz episode...   \n",
       "1  [wonderful little production br br filming tec...   \n",
       "2  [thought wonderful way spend Tears in my eyes ...   \n",
       "3  [basically theres family little boy jake think...   \n",
       "4  [petter matteis love Tears in my eyes money vi...   \n",
       "\n",
       "                                      review_stemmed  \n",
       "0  one review mention watch 1 oz episod youll hoo...  \n",
       "1  wonder littl product br br film techniqu unass...  \n",
       "2  thought wonder way spend tear in my eye hot su...  \n",
       "3  basic there famili littl boy jake think there ...  \n",
       "4  petter mattei love tear in my eye money visual...  "
      ]
     },
     "execution_count": 70,
     "metadata": {},
     "output_type": "execute_result"
    }
   ],
   "source": [
    "# Intlize PorterStemmer\n",
    "ps = PorterStemmer()\n",
    "\n",
    "# Apply PorterStemmer\n",
    "df['review_stemmed'] = df['review'].apply(lambda x: ' '.join([ps.stem(word) for word in x.split()]))\n",
    "\n",
    "# Head\n",
    "df.head()"
   ]
  },
  {
   "cell_type": "markdown",
   "metadata": {},
   "source": [
    "# <p style=\"font-family:newtimeroman;font-size:100%;text-align:center;color:#F52549;\">1.10 Lemmatization</p>\n"
   ]
  },
  {
   "cell_type": "code",
   "execution_count": 71,
   "metadata": {
    "_kg_hide-output": true,
    "execution": {
     "iopub.execute_input": "2024-03-07T00:42:36.944741Z",
     "iopub.status.busy": "2024-03-07T00:42:36.944337Z",
     "iopub.status.idle": "2024-03-07T00:42:37.006889Z",
     "shell.execute_reply": "2024-03-07T00:42:37.005926Z",
     "shell.execute_reply.started": "2024-03-07T00:42:36.944710Z"
    },
    "trusted": true
   },
   "outputs": [
    {
     "name": "stderr",
     "output_type": "stream",
     "text": [
      "[nltk_data] Downloading package punkt to\n",
      "[nltk_data]     C:\\Users\\Lenovo\\AppData\\Roaming\\nltk_data...\n",
      "[nltk_data]   Unzipping tokenizers\\punkt.zip.\n",
      "[nltk_data] Downloading package stopwords to\n",
      "[nltk_data]     C:\\Users\\Lenovo\\AppData\\Roaming\\nltk_data...\n",
      "[nltk_data]   Package stopwords is already up-to-date!\n",
      "[nltk_data] Downloading package wordnet to\n",
      "[nltk_data]     C:\\Users\\Lenovo\\AppData\\Roaming\\nltk_data...\n"
     ]
    },
    {
     "data": {
      "text/plain": [
       "True"
      ]
     },
     "execution_count": 71,
     "metadata": {},
     "output_type": "execute_result"
    }
   ],
   "source": [
    "# Download NLTK resources (uncomment the following line if not already downloaded)?\n",
    "import nltk\n",
    "nltk.download('punkt')\n",
    "nltk.download('stopwords')\n",
    "nltk.download('wordnet')"
   ]
  },
  {
   "cell_type": "code",
   "execution_count": 72,
   "metadata": {
    "execution": {
     "iopub.execute_input": "2024-03-07T00:46:26.105781Z",
     "iopub.status.busy": "2024-03-07T00:46:26.105420Z",
     "iopub.status.idle": "2024-03-07T00:46:26.109910Z",
     "shell.execute_reply": "2024-03-07T00:46:26.109012Z",
     "shell.execute_reply.started": "2024-03-07T00:46:26.105753Z"
    },
    "trusted": true
   },
   "outputs": [
    {
     "data": {
      "text/html": [
       "<div>\n",
       "<style scoped>\n",
       "    .dataframe tbody tr th:only-of-type {\n",
       "        vertical-align: middle;\n",
       "    }\n",
       "\n",
       "    .dataframe tbody tr th {\n",
       "        vertical-align: top;\n",
       "    }\n",
       "\n",
       "    .dataframe thead th {\n",
       "        text-align: right;\n",
       "    }\n",
       "</style>\n",
       "<table border=\"1\" class=\"dataframe\">\n",
       "  <thead>\n",
       "    <tr style=\"text-align: right;\">\n",
       "      <th></th>\n",
       "      <th>review</th>\n",
       "      <th>sentiment</th>\n",
       "      <th>review_word_token</th>\n",
       "      <th>review_sent_token</th>\n",
       "      <th>review_stemmed</th>\n",
       "      <th>review_lemmatized</th>\n",
       "    </tr>\n",
       "  </thead>\n",
       "  <tbody>\n",
       "    <tr>\n",
       "      <th>0</th>\n",
       "      <td>one reviewers mentioned watching 1 oz episode ...</td>\n",
       "      <td>positive</td>\n",
       "      <td>[one, reviewers, mentioned, watching, 1, oz, e...</td>\n",
       "      <td>[one reviewers mentioned watching 1 oz episode...</td>\n",
       "      <td>one review mention watch 1 oz episod youll hoo...</td>\n",
       "      <td>one reviewers mention watch 1 oz episode youll...</td>\n",
       "    </tr>\n",
       "    <tr>\n",
       "      <th>1</th>\n",
       "      <td>wonderful little production br br filming tech...</td>\n",
       "      <td>positive</td>\n",
       "      <td>[wonderful, little, production, br, br, filmin...</td>\n",
       "      <td>[wonderful little production br br filming tec...</td>\n",
       "      <td>wonder littl product br br film techniqu unass...</td>\n",
       "      <td>wonderful little production br br film techniq...</td>\n",
       "    </tr>\n",
       "    <tr>\n",
       "      <th>2</th>\n",
       "      <td>thought wonderful way spend Tears in my eyes h...</td>\n",
       "      <td>positive</td>\n",
       "      <td>[thought, wonderful, way, spend, Tears, in, my...</td>\n",
       "      <td>[thought wonderful way spend Tears in my eyes ...</td>\n",
       "      <td>thought wonder way spend tear in my eye hot su...</td>\n",
       "      <td>think wonderful way spend Tears in my eye hot ...</td>\n",
       "    </tr>\n",
       "    <tr>\n",
       "      <th>3</th>\n",
       "      <td>basically theres family little boy jake thinks...</td>\n",
       "      <td>negative</td>\n",
       "      <td>[basically, theres, family, little, boy, jake,...</td>\n",
       "      <td>[basically theres family little boy jake think...</td>\n",
       "      <td>basic there famili littl boy jake think there ...</td>\n",
       "      <td>basically theres family little boy jake think ...</td>\n",
       "    </tr>\n",
       "    <tr>\n",
       "      <th>4</th>\n",
       "      <td>petter matteis love Tears in my eyes money vis...</td>\n",
       "      <td>positive</td>\n",
       "      <td>[petter, matteis, love, Tears, in, my, eyes, m...</td>\n",
       "      <td>[petter matteis love Tears in my eyes money vi...</td>\n",
       "      <td>petter mattei love tear in my eye money visual...</td>\n",
       "      <td>petter matteis love Tears in my eye money visu...</td>\n",
       "    </tr>\n",
       "  </tbody>\n",
       "</table>\n",
       "</div>"
      ],
      "text/plain": [
       "                                              review sentiment  \\\n",
       "0  one reviewers mentioned watching 1 oz episode ...  positive   \n",
       "1  wonderful little production br br filming tech...  positive   \n",
       "2  thought wonderful way spend Tears in my eyes h...  positive   \n",
       "3  basically theres family little boy jake thinks...  negative   \n",
       "4  petter matteis love Tears in my eyes money vis...  positive   \n",
       "\n",
       "                                   review_word_token  \\\n",
       "0  [one, reviewers, mentioned, watching, 1, oz, e...   \n",
       "1  [wonderful, little, production, br, br, filmin...   \n",
       "2  [thought, wonderful, way, spend, Tears, in, my...   \n",
       "3  [basically, theres, family, little, boy, jake,...   \n",
       "4  [petter, matteis, love, Tears, in, my, eyes, m...   \n",
       "\n",
       "                                   review_sent_token  \\\n",
       "0  [one reviewers mentioned watching 1 oz episode...   \n",
       "1  [wonderful little production br br filming tec...   \n",
       "2  [thought wonderful way spend Tears in my eyes ...   \n",
       "3  [basically theres family little boy jake think...   \n",
       "4  [petter matteis love Tears in my eyes money vi...   \n",
       "\n",
       "                                      review_stemmed  \\\n",
       "0  one review mention watch 1 oz episod youll hoo...   \n",
       "1  wonder littl product br br film techniqu unass...   \n",
       "2  thought wonder way spend tear in my eye hot su...   \n",
       "3  basic there famili littl boy jake think there ...   \n",
       "4  petter mattei love tear in my eye money visual...   \n",
       "\n",
       "                                   review_lemmatized  \n",
       "0  one reviewers mention watch 1 oz episode youll...  \n",
       "1  wonderful little production br br film techniq...  \n",
       "2  think wonderful way spend Tears in my eye hot ...  \n",
       "3  basically theres family little boy jake think ...  \n",
       "4  petter matteis love Tears in my eye money visu...  "
      ]
     },
     "execution_count": 72,
     "metadata": {},
     "output_type": "execute_result"
    }
   ],
   "source": [
    " # Intilize Lemmatizer\n",
    "wordnet_lemmatizer = WordNetLemmatizer()\n",
    "\n",
    "# Apply \n",
    "df['review_lemmatized'] = df['review'].apply(lambda x: ' '.join([wordnet_lemmatizer.lemmatize(word , pos='v') for word in x.split()]))\n",
    "\n",
    "# Head\n",
    "df.head()"
   ]
  },
  {
   "cell_type": "markdown",
   "metadata": {},
   "source": [
    "# <p style=\"font-family:newtimeroman;font-size:100%;text-align:center;color:#F52549;\">2. Text Representation</p>\n"
   ]
  },
  {
   "attachments": {
    "49f570de-2754-45c4-b6a3-ade7a5d2e9b7.png": {
     "image/png": "[encoded data removed]"
    }
   },
   "cell_type": "markdown",
   "metadata": {},
   "source": [
    "![image.png](attachment:49f570de-2754-45c4-b6a3-ade7a5d2e9b7.png)"
   ]
  },
  {
   "cell_type": "markdown",
   "metadata": {},
   "source": [
    "### ***1. What is Feature Extraction from Text?***\n",
    "***Feature extraction from text refers to the process of converting textual data into numerical representations. It's also known as text representation or text vectorization.***\n",
    "\n",
    "### ***2. Why Do We Need It?***\n",
    "***In natural language processing (NLP) tasks using machine learning, providing effective features to models is crucial. Text vectorization is a pivotal step in ML-based NLP, facilitating the transformation of text data into a format suitable for modeling.***\n",
    "\n",
    "### ***3. Why Is It Difficult?***\n",
    "***While it's straightforward to represent data like pixels in images or audio in numerical form, converting text into meaningful numerical representations poses challenges. Text carries rich semantic meaning, and preserving this meaning during conversion is complex.***\n",
    "\n",
    "###***4. What Is the Core Idea?***\n",
    "***The core idea of text-to-number conversion is to encode the semantic meaning of the text into numerical representations effectively.***\n",
    "\n",
    "### ***5. What Are the Techniques?***\n",
    "***a. One-Hot Encoding (OHE): Assigning a unique binary value to each word in the vocabulary.***\n",
    "\n",
    "***b. Bag of Words (BOW): Representing text as a frequency distribution of words, disregarding grammar and word order.***\n",
    "\n",
    "***c. N-Grams: Capturing the co-occurrence of adjacent words by considering sequences of n words.***\n",
    "\n",
    "***d. Term Frequency-Inverse Document Frequency (TF-IDF): Weighing the importance of words in a document relative to their frequency across the corpus.***"
   ]
  },
  {
   "cell_type": "markdown",
   "metadata": {},
   "source": [
    "### ***Some Common Terms***\n",
    "#### a. ***Corpus: The entire collection of text data, comprising all documents or texts under consideration.***\n",
    "\n",
    "#### b. ***Vocabulary: The set of unique words present in the corpus.***\n",
    "\n",
    "#### c. ***Document: Each individual piece of text in the corpus, such as a review, article, or sentence.***\n",
    "\n",
    "#### d. ***Word: The basic unit of textual data, representing a single element of meaning.***"
   ]
  },
  {
   "cell_type": "markdown",
   "metadata": {},
   "source": [
    "# <p style=\"font-family:newtimeroman;font-size:100%;text-align:center;color:#F52549;\">Corpus</p>"
   ]
  },
  {
   "cell_type": "code",
   "execution_count": 84,
   "metadata": {
    "execution": {
     "iopub.execute_input": "2024-03-07T00:46:45.103616Z",
     "iopub.status.busy": "2024-03-07T00:46:45.103184Z",
     "iopub.status.idle": "2024-03-07T00:46:48.855376Z",
     "shell.execute_reply": "2024-03-07T00:46:48.854304Z",
     "shell.execute_reply.started": "2024-03-07T00:46:45.103586Z"
    },
    "trusted": true
   },
   "outputs": [],
   "source": [
    "# First of all we made a corpus of All words \n",
    "corpus = []\n",
    "\n",
    "# Run a Loop and Append Reviews in corpus\n",
    "for i in range(len(df)):\n",
    "    #review = re.sub('[^a-zA-Z]', ' ', df['review_lemmatized'][i]) #replace all of the char which aren't in the alphabet\n",
    "    review = re.sub('[^a-zA-Z]', ' ', df['review_stemmed'][i])\n",
    "    review = review.split()\n",
    "    review = ' '.join(review)\n",
    "    corpus.append(review)"
   ]
  },
  {
   "cell_type": "code",
   "execution_count": 85,
   "metadata": {
    "execution": {
     "iopub.execute_input": "2024-03-07T00:46:48.857483Z",
     "iopub.status.busy": "2024-03-07T00:46:48.857177Z",
     "iopub.status.idle": "2024-03-07T00:46:48.862441Z",
     "shell.execute_reply": "2024-03-07T00:46:48.861556Z",
     "shell.execute_reply.started": "2024-03-07T00:46:48.857457Z"
    },
    "trusted": true
   },
   "outputs": [
    {
     "name": "stdout",
     "output_type": "stream",
     "text": [
      "The Lenght of the Corpus is : 50000\n"
     ]
    }
   ],
   "source": [
    "# Len Of Corpus\n",
    "print(f'The Lenght of the Corpus is : {len(corpus)}') # in fact, count of review"
   ]
  },
  {
   "cell_type": "code",
   "execution_count": 86,
   "metadata": {
    "execution": {
     "iopub.execute_input": "2024-03-07T00:46:48.863975Z",
     "iopub.status.busy": "2024-03-07T00:46:48.863680Z",
     "iopub.status.idle": "2024-03-07T00:46:49.255479Z",
     "shell.execute_reply": "2024-03-07T00:46:49.254543Z",
     "shell.execute_reply.started": "2024-03-07T00:46:48.863951Z"
    },
    "trusted": true
   },
   "outputs": [
    {
     "name": "stdout",
     "output_type": "stream",
     "text": [
      "Total words in Corpus is : 6155951\n"
     ]
    }
   ],
   "source": [
    "# Total number of words in corpus\n",
    "# Initialize total_words counter\n",
    "total_words = 0\n",
    "\n",
    "# Iterate through each element in the corpus list\n",
    "for text in corpus:\n",
    "    # Split the text into words and update the total_words counter\n",
    "    total_words += len(text.split())\n",
    "\n",
    "# Print the total number of words\n",
    "print(f\"Total words in Corpus is : {total_words}\")"
   ]
  },
  {
   "cell_type": "code",
   "execution_count": 87,
   "metadata": {
    "execution": {
     "iopub.execute_input": "2024-03-07T00:46:52.986247Z",
     "iopub.status.busy": "2024-03-07T00:46:52.985367Z",
     "iopub.status.idle": "2024-03-07T00:46:52.991682Z",
     "shell.execute_reply": "2024-03-07T00:46:52.990788Z",
     "shell.execute_reply.started": "2024-03-07T00:46:52.986214Z"
    },
    "trusted": true
   },
   "outputs": [
    {
     "data": {
      "text/plain": [
       "'one review mention watch oz episod youll hook right exactli happen mebr br first thing struck oz brutal unflinch scene violenc set right word go trust show faint heart timid show pull punch regard drug sex violenc hardcor classic use wordbr br call oz nicknam given oswald maximum secur state penitentari focus mainli emerald citi experiment section prison cell glass front face inward privaci high agenda em citi home manyaryan muslim gangsta latino christian italian irish moreso scuffl death stare dodgi deal shadi agreement never far awaybr br would say main appeal show due fact goe show wouldnt dare forget pretti pictur paint mainstream audienc forget charm forget romanceoz doesnt mess around first episod ever saw struck nasti surreal couldnt say readi watch develop tast oz got accustom high level graphic violenc violenc injustic crook guard wholl sold nickel inmat wholl kill order get away well manner middl class inmat turn prison bitch due lack street skill prison experi watch oz may becom comfort uncomfort viewingthat get touch darker side'"
      ]
     },
     "execution_count": 87,
     "metadata": {},
     "output_type": "execute_result"
    }
   ],
   "source": [
    "# head\n",
    "corpus[0]"
   ]
  },
  {
   "cell_type": "code",
   "execution_count": 88,
   "metadata": {},
   "outputs": [
    {
     "data": {
      "text/plain": [
       "'saw movie 12 came recall scariest scene big bird eating men dangling helplessly parachutes right air horror horrorbr br young kid going cheesy b films saturday afternoons still tired formula monster type movies usually included hero beautiful woman might daughter professor happy resolution monster died end didnt care much romantic angle 12 year old predictable plots love unintentional humorbr br year later saw psycho came loved star janet leigh bumped early film sat took notice point since screenwriters making story make scary possible wellworn formula rules'"
      ]
     },
     "execution_count": 88,
     "metadata": {},
     "output_type": "execute_result"
    }
   ],
   "source": [
    "df['review'][11]"
   ]
  },
  {
   "cell_type": "code",
   "execution_count": 89,
   "metadata": {
    "execution": {
     "iopub.execute_input": "2024-03-07T00:46:54.546254Z",
     "iopub.status.busy": "2024-03-07T00:46:54.545406Z",
     "iopub.status.idle": "2024-03-07T00:46:54.551841Z",
     "shell.execute_reply": "2024-03-07T00:46:54.550912Z",
     "shell.execute_reply.started": "2024-03-07T00:46:54.546218Z"
    },
    "trusted": true
   },
   "outputs": [
    {
     "data": {
      "text/plain": [
       "'saw movi came recal scariest scene big bird eat men dangl helplessli parachut right air horror horrorbr br young kid go cheesi b film saturday afternoon still tire formula monster type movi usual includ hero beauti woman might daughter professor happi resolut monster die end didnt care much romant angl year old predict plot love unintent humorbr br year later saw psycho came love star janet leigh bump earli film sat took notic point sinc screenwrit make stori make scari possibl wellworn formula rule'"
      ]
     },
     "execution_count": 89,
     "metadata": {},
     "output_type": "execute_result"
    }
   ],
   "source": [
    "corpus[11]"
   ]
  },
  {
   "cell_type": "markdown",
   "metadata": {},
   "source": [
    "# <p style=\"font-family:newtimeroman;font-size:100%;text-align:center;color:#F52549;\">Vocabulary</p>\n"
   ]
  },
  {
   "cell_type": "code",
   "execution_count": 90,
   "metadata": {
    "execution": {
     "iopub.execute_input": "2024-03-07T00:46:56.676961Z",
     "iopub.status.busy": "2024-03-07T00:46:56.676357Z",
     "iopub.status.idle": "2024-03-07T00:46:57.473619Z",
     "shell.execute_reply": "2024-03-07T00:46:57.472816Z",
     "shell.execute_reply.started": "2024-03-07T00:46:56.676928Z"
    },
    "trusted": true
   },
   "outputs": [],
   "source": [
    "# Let's find the unique words in the corpus\n",
    "vocabulary = set()\n",
    "\n",
    "# Apply vocabulary\n",
    "for review in corpus:\n",
    "    # Split the review into words\n",
    "    words = review.split()\n",
    "    # Update the vocabulary set with unique words from the review\n",
    "    vocabulary.update(words)\n",
    "\n",
    "# Convert the set back to a list if needed\n",
    "vocabulary = list(vocabulary)"
   ]
  },
  {
   "cell_type": "code",
   "execution_count": 91,
   "metadata": {
    "execution": {
     "iopub.execute_input": "2024-03-07T00:46:58.396055Z",
     "iopub.status.busy": "2024-03-07T00:46:58.395438Z",
     "iopub.status.idle": "2024-03-07T00:46:58.400579Z",
     "shell.execute_reply": "2024-03-07T00:46:58.399678Z",
     "shell.execute_reply.started": "2024-03-07T00:46:58.396025Z"
    },
    "trusted": true
   },
   "outputs": [
    {
     "name": "stdout",
     "output_type": "stream",
     "text": [
      "The Lenght of the Vocabulary  is : 137361\n"
     ]
    }
   ],
   "source": [
    "# Lenght of Vocab\n",
    "print(f'The Lenght of the Vocabulary  is : {len(vocabulary)}')"
   ]
  },
  {
   "cell_type": "code",
   "execution_count": 92,
   "metadata": {
    "execution": {
     "iopub.execute_input": "2024-03-07T00:47:00.276749Z",
     "iopub.status.busy": "2024-03-07T00:47:00.276390Z",
     "iopub.status.idle": "2024-03-07T00:47:00.282722Z",
     "shell.execute_reply": "2024-03-07T00:47:00.281852Z",
     "shell.execute_reply.started": "2024-03-07T00:47:00.276722Z"
    },
    "trusted": true
   },
   "outputs": [
    {
     "data": {
      "text/plain": [
       "['denishawn',\n",
       " 'sixti',\n",
       " 'menahem',\n",
       " 'booklength',\n",
       " 'presencewth',\n",
       " 'happensdavid',\n",
       " 'lim',\n",
       " 'luxproduc',\n",
       " 'tooquick',\n",
       " 'relationshipbr']"
      ]
     },
     "execution_count": 92,
     "metadata": {},
     "output_type": "execute_result"
    }
   ],
   "source": [
    "# Head of Vocab\n",
    "vocabulary[0:10]"
   ]
  },
  {
   "cell_type": "markdown",
   "metadata": {},
   "source": [
    "# <p style=\"font-family:newtimeroman;font-size:100%;text-align:center;color:#F52549;\">2.1 OneHotEncoding Text</p>\n"
   ]
  },
  {
   "cell_type": "markdown",
   "metadata": {},
   "source": [
    "***In natural language processing (NLP), one-hot encoding (OHE) is a technique used to represent categorical data, such as words or phrases, in a binary format. Each word in a vocabulary is assigned a unique binary vector, where only one bit is set to 1 (indicating the presence of the word) and the rest are set to 0.***"
   ]
  },
  {
   "cell_type": "code",
   "execution_count": 95,
   "metadata": {
    "execution": {
     "iopub.execute_input": "2024-03-07T00:47:04.924568Z",
     "iopub.status.busy": "2024-03-07T00:47:04.924199Z",
     "iopub.status.idle": "2024-03-07T00:47:04.929397Z",
     "shell.execute_reply": "2024-03-07T00:47:04.928443Z",
     "shell.execute_reply.started": "2024-03-07T00:47:04.924541Z"
    },
    "trusted": true
   },
   "outputs": [],
   "source": [
    "vocabulary_short = vocabulary[0:20000]"
   ]
  },
  {
   "cell_type": "code",
   "execution_count": 96,
   "metadata": {
    "execution": {
     "iopub.execute_input": "2024-03-07T00:47:05.605230Z",
     "iopub.status.busy": "2024-03-07T00:47:05.604415Z",
     "iopub.status.idle": "2024-03-07T00:47:05.610447Z",
     "shell.execute_reply": "2024-03-07T00:47:05.609549Z",
     "shell.execute_reply.started": "2024-03-07T00:47:05.605188Z"
    },
    "trusted": true
   },
   "outputs": [
    {
     "name": "stdout",
     "output_type": "stream",
     "text": [
      "The Lenght of the Vocabulary  is : 20000\n"
     ]
    }
   ],
   "source": [
    "# Lenght of Vocab\n",
    "print(f'The Lenght of the Vocabulary  is : {len(vocabulary_short)}')"
   ]
  },
  {
   "cell_type": "code",
   "execution_count": 105,
   "metadata": {
    "execution": {
     "iopub.execute_input": "2024-03-07T00:47:19.833761Z",
     "iopub.status.busy": "2024-03-07T00:47:19.832767Z",
     "iopub.status.idle": "2024-03-07T00:47:20.302792Z",
     "shell.execute_reply": "2024-03-07T00:47:20.301784Z",
     "shell.execute_reply.started": "2024-03-07T00:47:19.833726Z"
    },
    "trusted": true
   },
   "outputs": [
    {
     "name": "stdout",
     "output_type": "stream",
     "text": [
      "[[0. 1. 0. ... 0. 0. 0.]\n",
      " [0. 0. 1. ... 0. 0. 0.]\n",
      " [0. 0. 0. ... 0. 0. 0.]\n",
      " ...\n",
      " [0. 0. 0. ... 0. 1. 0.]\n",
      " [0. 0. 0. ... 0. 0. 1.]\n",
      " [0. 0. 0. ... 0. 0. 0.]]\n",
      "20000\n",
      "20000\n"
     ]
    }
   ],
   "source": [
    "from tensorflow.keras.preprocessing.text import Tokenizer\n",
    "\n",
    "# Create a tokenizer object with the desired maximum number of words\n",
    "tokenizer = Tokenizer(num_words=20000)  # Adjust the value as needed (take in count only the 'num_words' most frequent)\n",
    "\n",
    "# Fit tokenizer on vocabulary_short to build the vocabulary\n",
    "tokenizer.fit_on_texts(vocabulary_short)\n",
    "\n",
    "# if vocabulary = [\"dog\", \"cat\", \"bird\"]\n",
    "# and a text contains \"dog\" and \"cat\"\n",
    "# the OHE vector will be [1, 1, 0]\n",
    "\n",
    "# One-hot encode the text data\n",
    "one_hot_encoded = tokenizer.texts_to_matrix(vocabulary_short, mode='binary')\n",
    "\n",
    "# Print the one-hot encoded representation\n",
    "print(one_hot_encoded)\n",
    "print(len(one_hot_encoded)) # one vector for each word in the vocab\n",
    "print(len(one_hot_encoded[0])) # num_words given to the tokenizer"
   ]
  },
  {
   "cell_type": "markdown",
   "metadata": {},
   "source": [
    "# <p style=\"font-family:newtimeroman;font-size:100%;text-align:center;color:#F52549;\">2.2 Bag of Words BOW</p>\n"
   ]
  },
  {
   "cell_type": "markdown",
   "metadata": {},
   "source": [
    "***Bag of Words (BoW) is a well-known and widely used technique in text classification, despite its age. Its effectiveness lies in its simplicity and ability to handle out-of-vocabulary (OOV) words.***\n",
    "### ***2. Working***\n",
    "***Here's how it works: first, we create a vocabulary from our corpus, typically represented by a fixed number of words, let's say 5. Then, for each document, we count how many times each word from the vocabulary occurs. The order of words doesn't matter in BoW.***\n",
    "### ***3. Core Idea***\n",
    "***The core idea behind BoW is that it focuses on word frequency rather than context. It assumes that documents with similar content will have similar word frequencies. In other words, if two documents belong to the same category, they are likely to have similar word frequencies.***\n",
    "### ***4. How we Capture Semmentic Meaning of Words***\n",
    "***However, BoW doesn't capture contextual or semantic meaning directly. It treats text as a vector in a high-dimensional space, with each dimension representing a word from the vocabulary. Documents are then compared based on the angle between their vectors. Similar documents will have smaller angles between their vectors, indicating similar word frequencies.***\n",
    "### ***5. Summarization***\n",
    "***One advantage of BoW is its ability to handle OOV words, as it only relies on the presence or absence of words in the vocabulary.In summary, BoW is a simple yet effective technique for text classification, focusing on word frequency rather than context or meaning.It represents text as vectors in a high-dimensional space and compares documents based on the angle between their vectors.***"
   ]
  },
  {
   "cell_type": "markdown",
   "metadata": {},
   "source": [
    "### ***Code Working***\n",
    "\n",
    "1. **Initializing CountVectorizer**:\n",
    "   - `cv = CountVectorizer(max_features=10000)`: Here, an instance of the `CountVectorizer` class is created with a parameter `max_features` set to 10000. \n",
    "     - `max_features` specifies the maximum number of features (words or tokens) to consider based on their frequency. In this case, it limits the vocabulary to the top 10,000 most frequent words in the corpus.\n",
    "\n",
    "2. **Fitting the Data**:\n",
    "   - `bow = cv.fit_transform(df['review_lemmatized'])`: This line fits the `CountVectorizer` to the text data and transforms the text data into a document-term matrix.\n",
    "     - `df['review_lemmatized']` is assumed to be a Pandas DataFrame column containing preprocessed and lemmatized text data (e.g., reviews).\n",
    "     - The `fit_transform()` method first fits the `CountVectorizer` to learn the vocabulary from the text data (`df['review_lemmatized']`) and then transforms the text data into a sparse matrix where each row represents a document (review) and each column represents a token (word). The values in the matrix indicate the count of each token in the corresponding document.\n",
    "\n",
    "In summary, this code segment imports the `CountVectorizer` class, initializes it with a maximum feature limit of 10,000, and then fits it to the lemmatized text data to create a document-term matrix representing the word counts in each document."
   ]
  },
  {
   "cell_type": "code",
   "execution_count": 106,
   "metadata": {
    "execution": {
     "iopub.execute_input": "2024-03-07T00:47:35.316853Z",
     "iopub.status.busy": "2024-03-07T00:47:35.315940Z",
     "iopub.status.idle": "2024-03-07T00:47:42.274463Z",
     "shell.execute_reply": "2024-03-07T00:47:42.273188Z",
     "shell.execute_reply.started": "2024-03-07T00:47:35.316821Z"
    },
    "trusted": true
   },
   "outputs": [],
   "source": [
    "# import \n",
    "from sklearn.feature_extraction.text import CountVectorizer\n",
    "\n",
    "# Intilize \n",
    "cv = CountVectorizer(max_features=10000) # Adjust the Value as needed \n",
    "\n",
    "# Fit on Data \n",
    "bow = cv.fit_transform(df['review_stemmed'])"
   ]
  },
  {
   "cell_type": "code",
   "execution_count": 107,
   "metadata": {
    "execution": {
     "iopub.execute_input": "2024-03-07T00:47:42.283214Z",
     "iopub.status.busy": "2024-03-07T00:47:42.282866Z",
     "iopub.status.idle": "2024-03-07T00:47:42.293724Z",
     "shell.execute_reply": "2024-03-07T00:47:42.292709Z",
     "shell.execute_reply.started": "2024-03-07T00:47:42.283180Z"
    },
    "trusted": true
   },
   "outputs": [
    {
     "name": "stdout",
     "output_type": "stream",
     "text": [
      "The lenght of the Vocabulary Generated by Bag of Words is : 10000\n"
     ]
    }
   ],
   "source": [
    "# # Show Vocabulary \n",
    "print(f'The lenght of the Vocabulary Generated by Bag of Words is : {len(cv.vocabulary_)}')"
   ]
  },
  {
   "cell_type": "code",
   "execution_count": 108,
   "metadata": {
    "execution": {
     "iopub.execute_input": "2024-03-07T00:47:45.205007Z",
     "iopub.status.busy": "2024-03-07T00:47:45.204633Z",
     "iopub.status.idle": "2024-03-07T00:47:45.212324Z",
     "shell.execute_reply": "2024-03-07T00:47:45.211436Z",
     "shell.execute_reply.started": "2024-03-07T00:47:45.204980Z"
    },
    "trusted": true
   },
   "outputs": [
    {
     "data": {
      "text/plain": [
       "array([[0, 0, 0, ..., 0, 0, 0]], dtype=int64)"
      ]
     },
     "execution_count": 108,
     "metadata": {},
     "output_type": "execute_result"
    }
   ],
   "source": [
    "# Enocded Sequence from Data \n",
    "bow[0].toarray()"
   ]
  },
  {
   "cell_type": "code",
   "execution_count": 109,
   "metadata": {
    "execution": {
     "iopub.execute_input": "2024-03-07T00:47:48.796073Z",
     "iopub.status.busy": "2024-03-07T00:47:48.795350Z",
     "iopub.status.idle": "2024-03-07T00:47:51.630338Z",
     "shell.execute_reply": "2024-03-07T00:47:51.629331Z",
     "shell.execute_reply.started": "2024-03-07T00:47:48.796043Z"
    },
    "trusted": true
   },
   "outputs": [
    {
     "data": {
      "text/plain": [
       "array([  76,   79, 4243, ...,   42,   59,   47], dtype=int64)"
      ]
     },
     "execution_count": 109,
     "metadata": {},
     "output_type": "execute_result"
    }
   ],
   "source": [
    "# Number of times each word has occurred\n",
    "word_counts = bow.toarray().sum(axis=0)\n",
    "word_counts"
   ]
  },
  {
   "cell_type": "markdown",
   "metadata": {},
   "source": [
    "# <p style=\"font-family:newtimeroman;font-size:100%;text-align:center;color:#F52549;\">2.3 Bi-Gram and Tri-Gram</p>"
   ]
  },
  {
   "cell_type": "markdown",
   "metadata": {},
   "source": [
    "***This technique is quite similar to BOW, but with a key difference. Instead of considering single words as vocabulary units, N-grams generate multiple word combinations. For example, in Bi-grams, we pair two words as vocabulary units, while Tri-grams use three-word combinations.***\n",
    "\n",
    "### ***3. Advantages:***\n",
    "1. ***Able to capture semantic meanings.***\n",
    "2. ***Simple and intuitive.***\n",
    "\n",
    "### ***4. Disadvantages:***\n",
    "1. ***Increased vocabulary dimensionality in Bi-grams and Tri-grams can lead to longer training times with large datasets.***\n",
    "2. ***No perfect solution for Out-Of-Vocabulary (OOV) words.***"
   ]
  },
  {
   "cell_type": "markdown",
   "metadata": {},
   "source": [
    "### ***Code Working***\n",
    "\n",
    "1. `cv_bi = CountVectorizer(max_features=10000, ngram_range=(2,2))`:\n",
    "   - Here, `CountVectorizer` is a method from the scikit-learn library used for converting a collection of text documents into a matrix of token counts.\n",
    "   - `max_features=10000` specifies that we want to limit the number of features (words or tokens) to the top 10,000 most frequent ones. This parameter helps in managing the memory and processing time, especially for large datasets.\n",
    "   - `ngram_range=(2,2)` specifies that we want to create bigrams, which are sequences of two adjacent words (bi-grams) in the text. This means that the CountVectorizer will consider pairs of consecutive words as features in addition to single words.\n",
    "\n",
    "2. `bow_bi = cv_bi.fit_transform(df['review_lemmatized'])`:\n",
    "   - `cv_bi.fit_transform()` is a method that fits the CountVectorizer to the text data and transforms the text data into a document-term matrix.\n",
    "   - `df['review_lemmatized']` is assumed to be a Pandas DataFrame column containing preprocessed and lemmatized text data (e.g., reviews).\n",
    "   - The `fit_transform()` method first fits the CountVectorizer to learn the vocabulary from the text data (`df['review_lemmatized']`) and then transforms the text data into a sparse matrix where each row represents a document (review) and each column represents a token (word or bigram). The values in the matrix indicate the count of each token in the corresponding document.\n",
    "\n",
    "In summary, this code snippet initializes a CountVectorizer object to create a document-term matrix considering `bigrams` (pairs of consecutive words) as features and limits the vocabulary to the top 10,000 most frequent tokens. Then, it fits the CountVectorizer to the lemmatized text data and transforms the data into a sparse matrix representation."
   ]
  },
  {
   "cell_type": "code",
   "execution_count": null,
   "metadata": {
    "execution": {
     "iopub.execute_input": "2024-03-07T00:47:59.961755Z",
     "iopub.status.busy": "2024-03-07T00:47:59.961382Z",
     "iopub.status.idle": "2024-03-07T00:48:24.488011Z",
     "shell.execute_reply": "2024-03-07T00:48:24.487092Z",
     "shell.execute_reply.started": "2024-03-07T00:47:59.961726Z"
    },
    "trusted": true
   },
   "outputs": [],
   "source": [
    "# Bigram \n",
    "cv_bi = CountVectorizer(max_features=10000 , ngram_range=(2,2))\n",
    "\n",
    "# Fitting\n",
    "bow_bi = cv_bi.fit_transform(df['review_stemmed'])"
   ]
  },
  {
   "cell_type": "code",
   "execution_count": null,
   "metadata": {
    "execution": {
     "iopub.execute_input": "2024-03-07T00:48:24.489760Z",
     "iopub.status.busy": "2024-03-07T00:48:24.489472Z",
     "iopub.status.idle": "2024-03-07T00:48:24.511348Z",
     "shell.execute_reply": "2024-03-07T00:48:24.510362Z",
     "shell.execute_reply.started": "2024-03-07T00:48:24.489735Z"
    },
    "trusted": true
   },
   "outputs": [
    {
     "name": "stdout",
     "output_type": "stream",
     "text": [
      "The lenght of the Vocabulary Generated by Bag of Words Bi Gram  is : 10000\n"
     ]
    }
   ],
   "source": [
    "# Vocabulary of bi-grams\n",
    "bi_gram_vocabulary = cv_bi.get_feature_names_out()\n",
    "\n",
    "# Length\n",
    "print(f'The lenght of the Vocabulary Generated by Bag of Words Bi Gram  is : {len(bi_gram_vocabulary)}')"
   ]
  },
  {
   "cell_type": "code",
   "execution_count": null,
   "metadata": {
    "execution": {
     "iopub.execute_input": "2024-03-07T00:48:28.545935Z",
     "iopub.status.busy": "2024-03-07T00:48:28.545562Z",
     "iopub.status.idle": "2024-03-07T00:48:30.854803Z",
     "shell.execute_reply": "2024-03-07T00:48:30.853757Z",
     "shell.execute_reply.started": "2024-03-07T00:48:28.545908Z"
    },
    "trusted": true
   },
   "outputs": [
    {
     "data": {
      "text/plain": [
       "array([238, 112, 378, ...,  78,  56, 169])"
      ]
     },
     "execution_count": 52,
     "metadata": {},
     "output_type": "execute_result"
    }
   ],
   "source": [
    "# Number of times each word has occurred\n",
    "word_counts = bow_bi.toarray().sum(axis=0)\n",
    "word_counts"
   ]
  },
  {
   "cell_type": "markdown",
   "metadata": {},
   "source": [
    "---\n"
   ]
  },
  {
   "cell_type": "markdown",
   "metadata": {},
   "source": [
    "### ***Code Working***\n",
    "\n",
    "1. `cv_tri = CountVectorizer(ngram_range=(3,3))`:\n",
    "   - Similar to the previous code, `CountVectorizer` is used to convert text data into a matrix of token counts.\n",
    "   - `ngram_range=(3,3)` specifies that we want to create **Trigrams**, which are sequences of three adjacent words (tri-grams) in the text. This means that the CountVectorizer will consider triplets of consecutive words as features in addition to single words.\n",
    "\n",
    "2. We do she same process as we do above. \n",
    "\n",
    "In summary, this code initializes a CountVectorizer object to create a document-term matrix considering trigrams (triplets of consecutive words) as features. Then, it fits the CountVectorizer to the lemmatized text data and transforms the data into a sparse matrix representation."
   ]
  },
  {
   "cell_type": "code",
   "execution_count": null,
   "metadata": {
    "execution": {
     "iopub.execute_input": "2024-03-07T00:48:41.038078Z",
     "iopub.status.busy": "2024-03-07T00:48:41.037712Z",
     "iopub.status.idle": "2024-03-07T00:49:20.240637Z",
     "shell.execute_reply": "2024-03-07T00:49:20.239778Z",
     "shell.execute_reply.started": "2024-03-07T00:48:41.038050Z"
    },
    "trusted": true
   },
   "outputs": [],
   "source": [
    "# Tri Gram \n",
    "cv_tri = CountVectorizer(max_features=10000,ngram_range=(3,3))\n",
    "\n",
    "# Fitting \n",
    "bow_tri = cv_tri.fit_transform(df['review_stemmed'])"
   ]
  },
  {
   "cell_type": "code",
   "execution_count": null,
   "metadata": {
    "execution": {
     "iopub.execute_input": "2024-03-07T00:49:20.242493Z",
     "iopub.status.busy": "2024-03-07T00:49:20.242181Z",
     "iopub.status.idle": "2024-03-07T00:49:20.270628Z",
     "shell.execute_reply": "2024-03-07T00:49:20.269424Z",
     "shell.execute_reply.started": "2024-03-07T00:49:20.242467Z"
    },
    "trusted": true
   },
   "outputs": [
    {
     "name": "stdout",
     "output_type": "stream",
     "text": [
      "The lenght of the Vocabulary Generated by Bag of Words Tri Gram  is : 10000\n"
     ]
    }
   ],
   "source": [
    "# Vocabulary of bi-grams\n",
    "tri_gram_vocabulary = cv_tri.get_feature_names_out()\n",
    "\n",
    "# Length\n",
    "print(f'The lenght of the Vocabulary Generated by Bag of Words Tri Gram  is : {len(tri_gram_vocabulary)}')"
   ]
  },
  {
   "cell_type": "code",
   "execution_count": null,
   "metadata": {
    "execution": {
     "iopub.execute_input": "2024-03-07T00:49:20.272668Z",
     "iopub.status.busy": "2024-03-07T00:49:20.271822Z",
     "iopub.status.idle": "2024-03-07T00:49:21.967693Z",
     "shell.execute_reply": "2024-03-07T00:49:21.966492Z",
     "shell.execute_reply.started": "2024-03-07T00:49:20.272633Z"
    },
    "trusted": true
   },
   "outputs": [
    {
     "data": {
      "text/plain": [
       "array([10, 14,  9, ..., 15, 10, 10])"
      ]
     },
     "execution_count": 56,
     "metadata": {},
     "output_type": "execute_result"
    }
   ],
   "source": [
    "# Number of times each word has occurred\n",
    "word_counts = bow_tri.toarray().sum(axis=0)\n",
    "word_counts"
   ]
  },
  {
   "cell_type": "markdown",
   "metadata": {},
   "source": [
    "# <p style=\"font-family:newtimeroman;font-size:100%;text-align:center;color:#F52549;\">2.4 TF_IDF</p>"
   ]
  },
  {
   "cell_type": "markdown",
   "metadata": {},
   "source": [
    "### ***TF-IDF (Term Frequency-Inverse Document Frequency)***\n",
    "***TF-IDF (Term Frequency-Inverse Document Frequency) assigns different values to words in a vocabulary based on their importance in documents. It operates on a simple principle: if a word appears frequently in a particular document but rarely across the entire corpus, it's considered significant for that document, thus receiving a higher weight.***\n",
    " \n",
    "### ***To calculate these values, TF-IDF uses two terms:***\n",
    "1. ***TF (Term Frequency): The frequency of a term in a document, normalized between 0 and 1, indicating the probability of that term occurring in the document.***\n",
    "   ***Formula: TF(t,d) = Number of Occurrences of Term t in Document d / Total Number of Terms in Document d***\n",
    " \n",
    "2. ***IDF (Inverse Document Frequency): Measures how rare a term is across the entire corpus.***\n",
    "   ***Formula: IDF = Total Number of Documents in Corpus / Number of Documents with Term t***\n",
    "\n",
    "***So the idea is that , if the word is frequent in the corpus , THE idf value will be very low , If the word is rare in the document the idf wil be high .***"
   ]
  },
  {
   "cell_type": "code",
   "execution_count": null,
   "metadata": {
    "execution": {
     "iopub.execute_input": "2024-03-07T00:49:25.859314Z",
     "iopub.status.busy": "2024-03-07T00:49:25.858605Z",
     "iopub.status.idle": "2024-03-07T00:49:25.863179Z",
     "shell.execute_reply": "2024-03-07T00:49:25.862234Z",
     "shell.execute_reply.started": "2024-03-07T00:49:25.859268Z"
    },
    "trusted": true
   },
   "outputs": [],
   "source": [
    "# Import \n",
    "from sklearn.feature_extraction.text import TfidfVectorizer"
   ]
  },
  {
   "cell_type": "code",
   "execution_count": null,
   "metadata": {
    "execution": {
     "iopub.execute_input": "2024-03-07T00:49:30.957155Z",
     "iopub.status.busy": "2024-03-07T00:49:30.956422Z",
     "iopub.status.idle": "2024-03-07T00:49:38.029318Z",
     "shell.execute_reply": "2024-03-07T00:49:38.028486Z",
     "shell.execute_reply.started": "2024-03-07T00:49:30.957125Z"
    },
    "trusted": true
   },
   "outputs": [],
   "source": [
    "# Intilize \n",
    "tf_idf = TfidfVectorizer()\n",
    "\n",
    "# Fitting\n",
    "tf = tf_idf.fit_transform(df['review_stemmed'])"
   ]
  },
  {
   "cell_type": "code",
   "execution_count": null,
   "metadata": {
    "execution": {
     "iopub.execute_input": "2024-03-07T00:49:39.991378Z",
     "iopub.status.busy": "2024-03-07T00:49:39.991004Z",
     "iopub.status.idle": "2024-03-07T00:49:39.996329Z",
     "shell.execute_reply": "2024-03-07T00:49:39.995356Z",
     "shell.execute_reply.started": "2024-03-07T00:49:39.991349Z"
    },
    "trusted": true
   },
   "outputs": [
    {
     "name": "stdout",
     "output_type": "stream",
     "text": [
      "The Lenght of Tf-idf Vocabulary is 142234\n"
     ]
    }
   ],
   "source": [
    "# Len of Vocabulary\n",
    "print(f\"The Lenght of Tf-idf Vocabulary is {len(tf_idf.vocabulary_)}\")"
   ]
  },
  {
   "cell_type": "code",
   "execution_count": null,
   "metadata": {
    "execution": {
     "iopub.execute_input": "2024-03-07T00:52:47.283735Z",
     "iopub.status.busy": "2024-03-07T00:52:47.283336Z",
     "iopub.status.idle": "2024-03-07T00:52:47.290499Z",
     "shell.execute_reply": "2024-03-07T00:52:47.289592Z",
     "shell.execute_reply.started": "2024-03-07T00:52:47.283706Z"
    },
    "trusted": true
   },
   "outputs": [
    {
     "data": {
      "text/plain": [
       "array([[0., 0., 0., ..., 0., 0., 0.]])"
      ]
     },
     "execution_count": 68,
     "metadata": {},
     "output_type": "execute_result"
    }
   ],
   "source": [
    "# Some Random Text \n",
    "tf[120].toarray()"
   ]
  },
  {
   "cell_type": "code",
   "execution_count": null,
   "metadata": {
    "execution": {
     "iopub.execute_input": "2024-03-07T00:49:40.616195Z",
     "iopub.status.busy": "2024-03-07T00:49:40.615319Z",
     "iopub.status.idle": "2024-03-07T00:49:40.623239Z",
     "shell.execute_reply": "2024-03-07T00:49:40.622216Z",
     "shell.execute_reply.started": "2024-03-07T00:49:40.616160Z"
    },
    "trusted": true
   },
   "outputs": [
    {
     "name": "stdout",
     "output_type": "stream",
     "text": [
      "IDF Scores of Words: [ 8.98658494 10.721186   11.1266511  ... 11.1266511  11.1266511\n",
      " 11.1266511 ]\n"
     ]
    }
   ],
   "source": [
    "# IDF scores of words\n",
    "idf_scores = tf_idf.idf_\n",
    "\n",
    "# Print the IDF scores of words and the vocabulary\n",
    "print(\"IDF Scores of Words:\", idf_scores)"
   ]
  },
  {
   "cell_type": "markdown",
   "metadata": {},
   "source": [
    "# <p style=\"font-family:newtimeroman;font-size:100%;text-align:center;color:#F52549;\">The End</p>"
   ]
  },
  {
   "cell_type": "markdown",
   "metadata": {},
   "source": [
    "\n",
    "```***Hope you like the setup! If you encounter any issues or have questions, feel free to comment below. I'll do my best to provide clear and helpful answers.***```"
   ]
  }
 ],
 "metadata": {
  "kaggle": {
   "accelerator": "none",
   "dataSources": [
    {
     "datasetId": 134715,
     "sourceId": 320111,
     "sourceType": "datasetVersion"
    }
   ],
   "dockerImageVersionId": 30665,
   "isGpuEnabled": false,
   "isInternetEnabled": true,
   "language": "python",
   "sourceType": "notebook"
  },
  "kernelspec": {
   "display_name": "base",
   "language": "python",
   "name": "python3"
  },
  "language_info": {
   "codemirror_mode": {
    "name": "ipython",
    "version": 3
   },
   "file_extension": ".py",
   "mimetype": "text/x-python",
   "name": "python",
   "nbconvert_exporter": "python",
   "pygments_lexer": "ipython3",
   "version": "3.11.5"
  }
 },
 "nbformat": 4,
 "nbformat_minor": 4
}
